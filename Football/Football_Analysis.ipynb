{
 "cells": [
  {
   "cell_type": "markdown",
   "metadata": {},
   "source": [
    "# Imports"
   ]
  },
  {
   "cell_type": "code",
   "execution_count": 20,
   "metadata": {},
   "outputs": [],
   "source": [
    "import pandas as pd\n",
    "import seaborn as sns\n",
    "import sklearn as sk\n",
    "import datetime as dt\n",
    "import numpy as np\n",
    "\n",
    "# To ignore annoying warning\n",
    "import warnings\n",
    "def ignore_warn(*args, **kwargs):\n",
    "    pass\n",
    "warnings.warn = ignore_warn\n",
    "warnings.filterwarnings(\"ignore\", category=DeprecationWarning)"
   ]
  },
  {
   "cell_type": "markdown",
   "metadata": {},
   "source": [
    "# Data Processing"
   ]
  },
  {
   "cell_type": "markdown",
   "metadata": {},
   "source": [
    "## Selection of features"
   ]
  },
  {
   "cell_type": "code",
   "execution_count": 21,
   "metadata": {},
   "outputs": [],
   "source": [
    "#Selection of existing relevant features per game : events that happened during each game\n",
    "relevant_features = ['Date','HomeTeam','AwayTeam','IWH','IWD','IWA','FTR','FTHG','FTAG','HTHG','HTAG','HS','AS',\n",
    "                     'HST','AST','HF','AF','HY','AY','HR','AR','HC','AC']"
   ]
  },
  {
   "cell_type": "markdown",
   "metadata": {},
   "source": [
    "## Function for data processing of each season : creation of relevant features"
   ]
  },
  {
   "cell_type": "code",
   "execution_count": 22,
   "metadata": {},
   "outputs": [],
   "source": [
    "def create_stat_dico(season: str, league: str) -> pd.DataFrame:\n",
    "    \n",
    "    \"\"\"Compute statistics for a given season all the relevant statistics by going through each game\n",
    "    \n",
    "    Output a Dataframe of each game and each team statistics before the game\n",
    "    \n",
    "    Arguments : name of the season as a string, name of the league as a string\n",
    "    \"\"\"\n",
    "    \n",
    "    #stat_seasons is a 3-layer nested dico :\n",
    "    # stats_season ---> dico of all clubs\n",
    "    # club ---> dico of all week results\n",
    "    # week ---> all stats for that week\n",
    "    # stat ---> value for that specific game\n",
    "     \n",
    "    stats_season = {}\n",
    "    file_name = '../Football_Data/Entire_Data_' + league + '.xlsx'\n",
    "    xls_file = pd.ExcelFile(file_name)\n",
    "    table = xls_file.parse(season)[relevant_features].dropna(axis=0)\n",
    "    \n",
    "    ###Features that describe team before the game\n",
    "    table['week'] = 0\n",
    "    \n",
    "    ###For Home Team (HT)\n",
    "    table['HT_average_points'] = 0.0\n",
    "    table['HT_average_goal_scored_half_1'] = 0.0\n",
    "    table['HT_average_goal_conceeded_half_1'] = 0.0\n",
    "    table['HT_average_goal_scored_half_2'] = 0.0\n",
    "    table['HT_average_goal_conceeded_half_2'] = 0.0\n",
    "    table['HT_average_yellow'] = 0.0\n",
    "    table['HT_average_red'] = 0.0\n",
    "    table['HT_average_shots_per_goal'] = 0.0\n",
    "    table['HT_on_target_precision'] = 0.0\n",
    "    table['HT_average_shots_conceeded'] = 0.0\n",
    "    table['HT_average_fouls_committed'] = 0.0\n",
    "    table['HT_average_fouls_conceeded'] = 0.0\n",
    "    \n",
    "    ###For Away Team (AT)\n",
    "    table['AT_average_points'] = 0.0\n",
    "    table['AT_average_goal_scored_half_1'] = 0.0\n",
    "    table['AT_average_goal_conceeded_half_1'] = 0.0\n",
    "    table['AT_average_goal_scored_half_2'] = 0.0\n",
    "    table['AT_average_goal_conceeded_half_2'] = 0.0\n",
    "    table['AT_average_yellow'] = 0.0\n",
    "    table['AT_average_red'] = 0.0\n",
    "    table['AT_average_shots_per_goal'] = 0.0\n",
    "    table['AT_on_target_precision'] = 0.0\n",
    "    table['AT_average_shots_conceeded'] = 0.0\n",
    "    table['AT_average_fouls_committed'] = 0.0\n",
    "    table['AT_average_fouls_conceeded'] = 0.0\n",
    "    \n",
    "    #Number of weeks available\n",
    "    nb_weeks = int(len(table)/10)\n",
    "    \n",
    "    if season == '2019-2020':\n",
    "        nb_weeks = int(len(table)/10) - 1\n",
    "    \n",
    "    #Getting unique list of club names for this season\n",
    "    clubs = list(set(list(table['HomeTeam'])))\n",
    "\n",
    "    #Creation of the dictionary of stats for each club       \n",
    "    for c in clubs:\n",
    "        \n",
    "        #First layer of dict\n",
    "        stats_season[c] = {}\n",
    "        \n",
    "        #Selection of the games where the club is involved\n",
    "        isHome = table['HomeTeam'] == c\n",
    "        isAway = table['AwayTeam'] == c\n",
    "        selected = table.loc[isHome | isAway]\n",
    "        stats_season[c]['games_index'] = list(selected.index)\n",
    "        \n",
    "        \n",
    "        #Initialisation of week 0 for additive params\n",
    "        stats_season[c][0] = {}\n",
    "        stats_season[c][0]['league_points'] = 0.0\n",
    "        stats_season[c][0]['goals_scored'] = 0.0\n",
    "        stats_season[c][0]['goals_scored_half'] = 0.0\n",
    "        stats_season[c][0]['goals_conceeded'] = 0.0\n",
    "        stats_season[c][0]['goals_conceeded_half'] = 0.0\n",
    "        stats_season[c][0]['yellow'] = 0.0\n",
    "        stats_season[c][0]['red'] = 0.0\n",
    "        stats_season[c][0]['fouls_conceeded'] = 0.0\n",
    "        stats_season[c][0]['fouls_committed'] = 0.0\n",
    "        stats_season[c][0]['shots'] = 0.0\n",
    "        stats_season[c][0]['shots_on_target'] = 0.0\n",
    "        stats_season[c][0]['shots_conceeded'] = 0.0\n",
    "        \n",
    "        #Going through all the weeks of the season\n",
    "        for k in range(1,len(selected)):\n",
    "            \n",
    "            #Second layer of dict\n",
    "            stats_season[c][k] = {}\n",
    "            \n",
    "            #Third layer of dict\n",
    "            if selected['AwayTeam'][selected.index[k-1]] == c :\n",
    "                stats_season[c][k]['is_Home'] = False\n",
    "            else :\n",
    "                stats_season[c][k]['is_Home'] = True\n",
    "            \n",
    "            #Modifying the dataframe to add the statistics before game (based on previous weeks) use as features for ML\n",
    "            if stats_season[c][k]['is_Home']:\n",
    "                table.at[selected.index[k-1],'week'] = k\n",
    "                table.at[selected.index[k-1],'HT_average_points'] = stats_season[c][k-1]['league_points'] / max(k-1.0,1.0)\n",
    "                table.at[selected.index[k-1],'HT_average_goal_scored_half_2'] = (stats_season[c][k-1]['goals_scored'] - stats_season[c][k-1]['goals_scored_half'])/ max(k-1.0,1.0)\n",
    "                table.at[selected.index[k-1],'HT_average_goal_conceeded_half_2'] = (stats_season[c][k-1]['goals_conceeded'] - stats_season[c][k-1]['goals_conceeded_half'])/ max(k-1.0,1.0)\n",
    "                table.at[selected.index[k-1],'HT_average_goal_scored_half_1'] = stats_season[c][k-1]['goals_scored_half'] / max(k-1.0,1.0)\n",
    "                table.at[selected.index[k-1],'HT_average_goal_conceeded_half_1'] =  stats_season[c][k-1]['goals_conceeded_half'] / max(k-1.0,1.0)\n",
    "                table.at[selected.index[k-1],'HT_average_shots_per_goal'] = sum([stats_season[c][j]['shots'] for j in range(k)]) / max(1.0,sum([stats_season[c][i]['goals_scored'] for i in range(k)]))\n",
    "                table.at[selected.index[k-1],'HT_on_target_precision'] = sum([stats_season[c][j]['shots_on_target'] for j in range(k)]) / max(1.0,sum([stats_season[c][i]['shots'] for i in range(k)]))\n",
    "                table.at[selected.index[k-1],'HT_average_shots_conceeded']= stats_season[c][k-1]['shots_conceeded'] / max(k-1.0,1.0)\n",
    "                table.at[selected.index[k-1],'HT_average_yellow'] = stats_season[c][k-1]['yellow'] / max(k-1.0,1.0)\n",
    "                table.at[selected.index[k-1],'HT_average_red'] = stats_season[c][k-1]['red'] / max(k-1.0,1.0)\n",
    "                table.at[selected.index[k-1],'HT_average_fouls_committed'] = stats_season[c][k-1]['fouls_committed'] / max(k-1.0,1.0)\n",
    "                table.at[selected.index[k-1],'HT_average_fouls_conceeded'] = stats_season[c][k-1]['fouls_conceeded'] / max(k-1.0,1.0)\n",
    "            else :\n",
    "                table.at[selected.index[k-1],'AT_average_points'] = stats_season[c][k-1]['league_points'] / max(k-1.0,1.0)\n",
    "                table.at[selected.index[k-1],'AT_average_goal_scored_half_2'] = (stats_season[c][k-1]['goals_scored'] - stats_season[c][k-1]['goals_scored_half'])/ max(k-1.0,1.0)\n",
    "                table.at[selected.index[k-1],'AT_average_goal_conceeded_half_2'] = (stats_season[c][k-1]['goals_conceeded'] - stats_season[c][k-1]['goals_conceeded_half'])/ max(k-1.0,1.0)\n",
    "                table.at[selected.index[k-1],'AT_average_goal_scored_half_1'] = stats_season[c][k-1]['goals_scored_half'] / max(k-1.0,1.0)\n",
    "                table.at[selected.index[k-1],'AT_average_goal_conceeded_half_1'] =  stats_season[c][k-1]['goals_conceeded_half'] / max(k-1.0,1.0)\n",
    "                table.at[selected.index[k-1],'AT_average_shots_per_goal'] = sum([stats_season[c][j]['shots'] for j in range(k)]) / max(1.0,sum([stats_season[c][i]['goals_scored'] for i in range(k)]))\n",
    "                table.at[selected.index[k-1],'AT_on_target_precision'] = sum([stats_season[c][j]['shots_on_target'] for j in range(k)]) / max(1.0,sum([stats_season[c][i]['shots'] for i in range(k)]))\n",
    "                table.at[selected.index[k-1],'AT_average_shots_conceeded']= stats_season[c][k-1]['shots_conceeded'] / max(k-1.0,1.0)\n",
    "                table.at[selected.index[k-1],'AT_average_yellow'] = stats_season[c][k-1]['yellow'] / max(k-1.0,1.0)\n",
    "                table.at[selected.index[k-1],'AT_average_red'] = stats_season[c][k-1]['red'] / max(k-1.0,1.0)\n",
    "                table.at[selected.index[k-1],'AT_average_fouls_committed'] = stats_season[c][k-1]['fouls_committed'] / max(k-1.0,1.0)\n",
    "                table.at[selected.index[k-1],'AT_average_fouls_conceeded'] = stats_season[c][k-1]['fouls_conceeded'] / max(k-1.0,1.0)\n",
    "                \n",
    "            #Gathering the statistics of the game for the club for next games\n",
    "            #League points\n",
    "            if selected['FTR'][selected.index[k-1]] == \"D\" :\n",
    "                stats_season[c][k]['league_points'] = stats_season[c][k-1]['league_points'] + 1.0\n",
    "            elif selected['FTR'][selected.index[k-1]] == \"A\" and selected['AwayTeam'][selected.index[k-1]] == c:\n",
    "                stats_season[c][k]['league_points'] = stats_season[c][k-1]['league_points'] + 3.0\n",
    "            elif selected['FTR'][selected.index[k-1]] == \"H\" and selected['HomeTeam'][selected.index[k-1]] == c:\n",
    "                stats_season[c][k]['league_points'] = stats_season[c][k-1]['league_points'] + 3.0\n",
    "            else:\n",
    "                stats_season[c][k]['league_points'] = stats_season[c][k-1]['league_points']\n",
    "            \n",
    "            #Goals and shots\n",
    "            if stats_season[c][k]['is_Home']:\n",
    "                stats_season[c][k]['goals_scored'] = stats_season[c][k-1]['goals_scored'] + selected['FTHG'][selected.index[k-1]]\n",
    "                stats_season[c][k]['goals_scored_half'] = stats_season[c][k-1]['goals_scored_half'] + selected['HTHG'][selected.index[k-1]]\n",
    "                stats_season[c][k]['goals_conceeded'] = stats_season[c][k-1]['goals_conceeded'] + selected['FTAG'][selected.index[k-1]]\n",
    "                stats_season[c][k]['goals_conceeded_half'] = stats_season[c][k-1]['goals_conceeded_half'] + selected['HTAG'][selected.index[k-1]]\n",
    "                stats_season[c][k]['shots'] = stats_season[c][k-1]['shots'] + selected['HS'][selected.index[k-1]]\n",
    "                stats_season[c][k]['shots_on_target'] = stats_season[c][k-1]['shots_on_target'] + selected['HST'][selected.index[k-1]]\n",
    "                stats_season[c][k]['shots_conceeded'] = stats_season[c][k-1]['shots_conceeded'] + selected['AS'][selected.index[k-1]]\n",
    "            else :\n",
    "                stats_season[c][k]['goals_scored'] = stats_season[c][k-1]['goals_scored'] + selected['FTAG'][selected.index[k-1]]\n",
    "                stats_season[c][k]['goals_scored_half'] = stats_season[c][k-1]['goals_scored_half'] + selected['HTAG'][selected.index[k-1]]\n",
    "                stats_season[c][k]['goals_conceeded'] = stats_season[c][k-1]['goals_conceeded'] + selected['FTHG'][selected.index[k-1]]\n",
    "                stats_season[c][k]['goals_conceeded_half'] = stats_season[c][k-1]['goals_conceeded_half'] + selected['HTHG'][selected.index[k-1]]\n",
    "                stats_season[c][k]['shots'] = stats_season[c][k-1]['shots'] + selected['AS'][selected.index[k-1]]\n",
    "                stats_season[c][k]['shots_on_target'] = stats_season[c][k-1]['shots_on_target'] + selected['AST'][selected.index[k-1]]\n",
    "                stats_season[c][k]['shots_conceeded'] = stats_season[c][k-1]['shots_conceeded'] + selected['HS'][selected.index[k-1]]\n",
    "            \n",
    "            #Fouls and cards\n",
    "            if stats_season[c][k]['is_Home']:\n",
    "                stats_season[c][k]['yellow'] = stats_season[c][k-1]['yellow'] + selected['HY'][selected.index[k-1]]\n",
    "                stats_season[c][k]['red'] = stats_season[c][k-1]['red'] + selected['HR'][selected.index[k-1]]\n",
    "                stats_season[c][k]['fouls_conceeded'] = stats_season[c][k-1]['fouls_conceeded'] + selected['AF'][selected.index[k-1]]\n",
    "                stats_season[c][k]['fouls_committed'] = stats_season[c][k-1]['fouls_committed'] + selected['HF'][selected.index[k-1]]\n",
    "            else:\n",
    "                stats_season[c][k]['yellow'] = stats_season[c][k-1]['yellow'] + selected['AY'][selected.index[k-1]]\n",
    "                stats_season[c][k]['red'] = stats_season[c][k-1]['red'] + selected['AR'][selected.index[k-1]]\n",
    "                stats_season[c][k]['fouls_conceeded'] = stats_season[c][k-1]['fouls_conceeded'] + selected['HF'][selected.index[k-1]]\n",
    "                stats_season[c][k]['fouls_committed'] = stats_season[c][k-1]['fouls_committed'] + selected['AF'][selected.index[k-1]]\n",
    "  \n",
    "    return(table)"
   ]
  },
  {
   "cell_type": "markdown",
   "metadata": {},
   "source": [
    "## Processing selected data"
   ]
  },
  {
   "cell_type": "code",
   "execution_count": 23,
   "metadata": {},
   "outputs": [
    {
     "name": "stdout",
     "output_type": "stream",
     "text": [
      "Processing PL 2012-2013\n"
     ]
    },
    {
     "ename": "ImportError",
     "evalue": "Missing optional dependency 'xlrd'. Install xlrd >= 1.0.0 for Excel support Use pip or conda to install xlrd.",
     "output_type": "error",
     "traceback": [
      "\u001B[0;31m---------------------------------------------------------------------------\u001B[0m",
      "\u001B[0;31mImportError\u001B[0m                               Traceback (most recent call last)",
      "\u001B[0;32m<ipython-input-23-6b4e60818994>\u001B[0m in \u001B[0;36m<module>\u001B[0;34m\u001B[0m\n\u001B[1;32m     32\u001B[0m         \u001B[0mprint\u001B[0m\u001B[0;34m(\u001B[0m\u001B[0;34m\"Processing \"\u001B[0m \u001B[0;34m+\u001B[0m \u001B[0mleague\u001B[0m \u001B[0;34m+\u001B[0m \u001B[0;34m' '\u001B[0m \u001B[0;34m+\u001B[0m \u001B[0mstr\u001B[0m\u001B[0;34m(\u001B[0m\u001B[0mi\u001B[0m\u001B[0;34m)\u001B[0m \u001B[0;34m+\u001B[0m \u001B[0;34m'-'\u001B[0m \u001B[0;34m+\u001B[0m \u001B[0mstr\u001B[0m\u001B[0;34m(\u001B[0m\u001B[0mi\u001B[0m\u001B[0;34m+\u001B[0m\u001B[0;36m1\u001B[0m\u001B[0;34m)\u001B[0m\u001B[0;34m)\u001B[0m\u001B[0;34m\u001B[0m\u001B[0;34m\u001B[0m\u001B[0m\n\u001B[1;32m     33\u001B[0m \u001B[0;34m\u001B[0m\u001B[0m\n\u001B[0;32m---> 34\u001B[0;31m         \u001B[0mtable\u001B[0m \u001B[0;34m=\u001B[0m \u001B[0mcreate_stat_dico\u001B[0m\u001B[0;34m(\u001B[0m\u001B[0mseason\u001B[0m\u001B[0;34m,\u001B[0m \u001B[0mleague\u001B[0m\u001B[0;34m)\u001B[0m\u001B[0;34m\u001B[0m\u001B[0;34m\u001B[0m\u001B[0m\n\u001B[0m\u001B[1;32m     35\u001B[0m \u001B[0;34m\u001B[0m\u001B[0m\n\u001B[1;32m     36\u001B[0m         \u001B[0mfull_table_add\u001B[0m \u001B[0;34m=\u001B[0m \u001B[0mtable\u001B[0m\u001B[0;34m[\u001B[0m\u001B[0mprocessed_features\u001B[0m\u001B[0;34m]\u001B[0m\u001B[0;34m\u001B[0m\u001B[0;34m\u001B[0m\u001B[0m\n",
      "\u001B[0;32m<ipython-input-22-7041c1fd1a88>\u001B[0m in \u001B[0;36mcreate_stat_dico\u001B[0;34m(season, league)\u001B[0m\n\u001B[1;32m     16\u001B[0m     \u001B[0mstats_season\u001B[0m \u001B[0;34m=\u001B[0m \u001B[0;34m{\u001B[0m\u001B[0;34m}\u001B[0m\u001B[0;34m\u001B[0m\u001B[0;34m\u001B[0m\u001B[0m\n\u001B[1;32m     17\u001B[0m     \u001B[0mfile_name\u001B[0m \u001B[0;34m=\u001B[0m \u001B[0;34m'../Football_Data/Entire_Data_'\u001B[0m \u001B[0;34m+\u001B[0m \u001B[0mleague\u001B[0m \u001B[0;34m+\u001B[0m \u001B[0;34m'.xlsx'\u001B[0m\u001B[0;34m\u001B[0m\u001B[0;34m\u001B[0m\u001B[0m\n\u001B[0;32m---> 18\u001B[0;31m     \u001B[0mxls_file\u001B[0m \u001B[0;34m=\u001B[0m \u001B[0mpd\u001B[0m\u001B[0;34m.\u001B[0m\u001B[0mExcelFile\u001B[0m\u001B[0;34m(\u001B[0m\u001B[0mfile_name\u001B[0m\u001B[0;34m)\u001B[0m\u001B[0;34m\u001B[0m\u001B[0;34m\u001B[0m\u001B[0m\n\u001B[0m\u001B[1;32m     19\u001B[0m     \u001B[0mtable\u001B[0m \u001B[0;34m=\u001B[0m \u001B[0mxls_file\u001B[0m\u001B[0;34m.\u001B[0m\u001B[0mparse\u001B[0m\u001B[0;34m(\u001B[0m\u001B[0mseason\u001B[0m\u001B[0;34m)\u001B[0m\u001B[0;34m[\u001B[0m\u001B[0mrelevant_features\u001B[0m\u001B[0;34m]\u001B[0m\u001B[0;34m.\u001B[0m\u001B[0mdropna\u001B[0m\u001B[0;34m(\u001B[0m\u001B[0maxis\u001B[0m\u001B[0;34m=\u001B[0m\u001B[0;36m0\u001B[0m\u001B[0;34m)\u001B[0m\u001B[0;34m\u001B[0m\u001B[0;34m\u001B[0m\u001B[0m\n\u001B[1;32m     20\u001B[0m \u001B[0;34m\u001B[0m\u001B[0m\n",
      "\u001B[0;32m~/.local/lib/python3.6/site-packages/pandas/io/excel/_base.py\u001B[0m in \u001B[0;36m__init__\u001B[0;34m(self, path_or_buffer, engine)\u001B[0m\n\u001B[1;32m    865\u001B[0m         \u001B[0mself\u001B[0m\u001B[0;34m.\u001B[0m\u001B[0m_io\u001B[0m \u001B[0;34m=\u001B[0m \u001B[0mstringify_path\u001B[0m\u001B[0;34m(\u001B[0m\u001B[0mpath_or_buffer\u001B[0m\u001B[0;34m)\u001B[0m\u001B[0;34m\u001B[0m\u001B[0;34m\u001B[0m\u001B[0m\n\u001B[1;32m    866\u001B[0m \u001B[0;34m\u001B[0m\u001B[0m\n\u001B[0;32m--> 867\u001B[0;31m         \u001B[0mself\u001B[0m\u001B[0;34m.\u001B[0m\u001B[0m_reader\u001B[0m \u001B[0;34m=\u001B[0m \u001B[0mself\u001B[0m\u001B[0;34m.\u001B[0m\u001B[0m_engines\u001B[0m\u001B[0;34m[\u001B[0m\u001B[0mengine\u001B[0m\u001B[0;34m]\u001B[0m\u001B[0;34m(\u001B[0m\u001B[0mself\u001B[0m\u001B[0;34m.\u001B[0m\u001B[0m_io\u001B[0m\u001B[0;34m)\u001B[0m\u001B[0;34m\u001B[0m\u001B[0;34m\u001B[0m\u001B[0m\n\u001B[0m\u001B[1;32m    868\u001B[0m \u001B[0;34m\u001B[0m\u001B[0m\n\u001B[1;32m    869\u001B[0m     \u001B[0;32mdef\u001B[0m \u001B[0m__fspath__\u001B[0m\u001B[0;34m(\u001B[0m\u001B[0mself\u001B[0m\u001B[0;34m)\u001B[0m\u001B[0;34m:\u001B[0m\u001B[0;34m\u001B[0m\u001B[0;34m\u001B[0m\u001B[0m\n",
      "\u001B[0;32m~/.local/lib/python3.6/site-packages/pandas/io/excel/_xlrd.py\u001B[0m in \u001B[0;36m__init__\u001B[0;34m(self, filepath_or_buffer)\u001B[0m\n\u001B[1;32m     19\u001B[0m         \"\"\"\n\u001B[1;32m     20\u001B[0m         \u001B[0merr_msg\u001B[0m \u001B[0;34m=\u001B[0m \u001B[0;34m\"Install xlrd >= 1.0.0 for Excel support\"\u001B[0m\u001B[0;34m\u001B[0m\u001B[0;34m\u001B[0m\u001B[0m\n\u001B[0;32m---> 21\u001B[0;31m         \u001B[0mimport_optional_dependency\u001B[0m\u001B[0;34m(\u001B[0m\u001B[0;34m\"xlrd\"\u001B[0m\u001B[0;34m,\u001B[0m \u001B[0mextra\u001B[0m\u001B[0;34m=\u001B[0m\u001B[0merr_msg\u001B[0m\u001B[0;34m)\u001B[0m\u001B[0;34m\u001B[0m\u001B[0;34m\u001B[0m\u001B[0m\n\u001B[0m\u001B[1;32m     22\u001B[0m         \u001B[0msuper\u001B[0m\u001B[0;34m(\u001B[0m\u001B[0;34m)\u001B[0m\u001B[0;34m.\u001B[0m\u001B[0m__init__\u001B[0m\u001B[0;34m(\u001B[0m\u001B[0mfilepath_or_buffer\u001B[0m\u001B[0;34m)\u001B[0m\u001B[0;34m\u001B[0m\u001B[0;34m\u001B[0m\u001B[0m\n\u001B[1;32m     23\u001B[0m \u001B[0;34m\u001B[0m\u001B[0m\n",
      "\u001B[0;32m~/.local/lib/python3.6/site-packages/pandas/compat/_optional.py\u001B[0m in \u001B[0;36mimport_optional_dependency\u001B[0;34m(name, extra, raise_on_missing, on_version)\u001B[0m\n\u001B[1;32m    108\u001B[0m     \u001B[0;32mexcept\u001B[0m \u001B[0mImportError\u001B[0m\u001B[0;34m:\u001B[0m\u001B[0;34m\u001B[0m\u001B[0;34m\u001B[0m\u001B[0m\n\u001B[1;32m    109\u001B[0m         \u001B[0;32mif\u001B[0m \u001B[0mraise_on_missing\u001B[0m\u001B[0;34m:\u001B[0m\u001B[0;34m\u001B[0m\u001B[0;34m\u001B[0m\u001B[0m\n\u001B[0;32m--> 110\u001B[0;31m             \u001B[0;32mraise\u001B[0m \u001B[0mImportError\u001B[0m\u001B[0;34m(\u001B[0m\u001B[0mmsg\u001B[0m\u001B[0;34m)\u001B[0m \u001B[0;32mfrom\u001B[0m \u001B[0;32mNone\u001B[0m\u001B[0;34m\u001B[0m\u001B[0;34m\u001B[0m\u001B[0m\n\u001B[0m\u001B[1;32m    111\u001B[0m         \u001B[0;32melse\u001B[0m\u001B[0;34m:\u001B[0m\u001B[0;34m\u001B[0m\u001B[0;34m\u001B[0m\u001B[0m\n\u001B[1;32m    112\u001B[0m             \u001B[0;32mreturn\u001B[0m \u001B[0;32mNone\u001B[0m\u001B[0;34m\u001B[0m\u001B[0;34m\u001B[0m\u001B[0m\n",
      "\u001B[0;31mImportError\u001B[0m: Missing optional dependency 'xlrd'. Install xlrd >= 1.0.0 for Excel support Use pip or conda to install xlrd."
     ]
    }
   ],
   "source": [
    "#List of all features created after processing\n",
    "processed_features = ['week', 'HT_average_points', 'HT_average_goal_scored_half_1',\n",
    "           'HT_average_goal_conceeded_half_1', 'HT_average_goal_scored_half_2',\n",
    "           'HT_average_goal_conceeded_half_2', 'HT_average_yellow', 'HT_average_red',\n",
    "           'HT_average_shots_per_goal', 'HT_on_target_precision',\n",
    "           'HT_average_shots_conceeded', 'HT_average_fouls_committed',\n",
    "           'HT_average_fouls_conceeded', \n",
    "           'AT_average_points', 'AT_average_goal_scored_half_1',\n",
    "           'AT_average_goal_conceeded_half_1', 'AT_average_goal_scored_half_2',\n",
    "           'AT_average_goal_conceeded_half_2', 'AT_average_yellow', 'AT_average_red',\n",
    "           'AT_average_shots_per_goal', 'AT_on_target_precision',\n",
    "           'AT_average_shots_conceeded', 'AT_average_fouls_committed',\n",
    "           'AT_average_fouls_conceeded', 'FTR','IWH','IWD','IWA']\n",
    "\n",
    "#Leagues selected\n",
    "chosen_leagues = ['PL'] # 'Ligue1','LaLiga','SerieA','Bundesliga'\n",
    "\n",
    "#Seasons selected\n",
    "start_year = 2012\n",
    "end_year = 2020\n",
    "\n",
    "data_seasons = {}\n",
    "\n",
    "for i in range(start_year,end_year):\n",
    "    \n",
    "    season = str(i) + '-' + str(i + 1)\n",
    "    \n",
    "    data_seasons[season] = {}\n",
    "    \n",
    "    for league in chosen_leagues:\n",
    "        \n",
    "        print(\"Processing \" + league + ' ' + str(i) + '-' + str(i+1))\n",
    "\n",
    "        table = create_stat_dico(season, league)\n",
    "\n",
    "        full_table_add = table[processed_features]\n",
    " \n",
    "        data_seasons[season][league] = full_table_add\n"
   ]
  },
  {
   "cell_type": "markdown",
   "metadata": {},
   "source": [
    "## Visualize data final format"
   ]
  },
  {
   "cell_type": "code",
   "execution_count": 5,
   "metadata": {},
   "outputs": [
    {
     "ename": "NameError",
     "evalue": "name 'full_table_add' is not defined",
     "output_type": "error",
     "traceback": [
      "\u001B[0;31m---------------------------------------------------------------------------\u001B[0m",
      "\u001B[0;31mNameError\u001B[0m                                 Traceback (most recent call last)",
      "\u001B[0;32m<ipython-input-5-21a27c2b1d6b>\u001B[0m in \u001B[0;36m<module>\u001B[0;34m\u001B[0m\n\u001B[1;32m      1\u001B[0m \u001B[0;31m#Visualize the format of dataframe\u001B[0m\u001B[0;34m\u001B[0m\u001B[0;34m\u001B[0m\u001B[0;34m\u001B[0m\u001B[0m\n\u001B[0;32m----> 2\u001B[0;31m \u001B[0mfull_table_add\u001B[0m\u001B[0;34m\u001B[0m\u001B[0;34m\u001B[0m\u001B[0m\n\u001B[0m",
      "\u001B[0;31mNameError\u001B[0m: name 'full_table_add' is not defined"
     ]
    }
   ],
   "source": [
    "#Visualize the format of dataframe\n",
    "full_table_add"
   ]
  },
  {
   "cell_type": "markdown",
   "metadata": {},
   "source": [
    "# Defining train and test datasets"
   ]
  },
  {
   "cell_type": "markdown",
   "metadata": {},
   "source": [
    "## Training dataset"
   ]
  },
  {
   "cell_type": "code",
   "execution_count": 6,
   "metadata": {},
   "outputs": [
    {
     "ename": "KeyError",
     "evalue": "'PL'",
     "output_type": "error",
     "traceback": [
      "\u001B[0;31m---------------------------------------------------------------------------\u001B[0m",
      "\u001B[0;31mKeyError\u001B[0m                                  Traceback (most recent call last)",
      "\u001B[0;32m<ipython-input-6-5aa048a90b22>\u001B[0m in \u001B[0;36m<module>\u001B[0;34m\u001B[0m\n\u001B[1;32m     13\u001B[0m     \u001B[0;32mfor\u001B[0m \u001B[0mleague\u001B[0m \u001B[0;32min\u001B[0m \u001B[0mtrain_chosen_leagues\u001B[0m\u001B[0;34m:\u001B[0m\u001B[0;34m\u001B[0m\u001B[0;34m\u001B[0m\u001B[0m\n\u001B[1;32m     14\u001B[0m \u001B[0;34m\u001B[0m\u001B[0m\n\u001B[0;32m---> 15\u001B[0;31m         \u001B[0mtable\u001B[0m \u001B[0;34m=\u001B[0m \u001B[0mdata_seasons\u001B[0m\u001B[0;34m[\u001B[0m\u001B[0mseason\u001B[0m\u001B[0;34m]\u001B[0m\u001B[0;34m[\u001B[0m\u001B[0mleague\u001B[0m\u001B[0;34m]\u001B[0m\u001B[0;34m\u001B[0m\u001B[0;34m\u001B[0m\u001B[0m\n\u001B[0m\u001B[1;32m     16\u001B[0m \u001B[0;34m\u001B[0m\u001B[0m\n\u001B[1;32m     17\u001B[0m         \u001B[0mtwo_concat\u001B[0m \u001B[0;34m=\u001B[0m \u001B[0;34m[\u001B[0m\u001B[0mtrain_df\u001B[0m\u001B[0;34m,\u001B[0m \u001B[0mtable\u001B[0m\u001B[0;34m]\u001B[0m\u001B[0;34m\u001B[0m\u001B[0;34m\u001B[0m\u001B[0m\n",
      "\u001B[0;31mKeyError\u001B[0m: 'PL'"
     ]
    }
   ],
   "source": [
    "#Selection of seasons used to train\n",
    "train_start_year = 2012\n",
    "train_end_year = 2017\n",
    "\n",
    "train_chosen_leagues = ['PL'] #'Ligue1','LaLiga','SerieA','Bundesliga'\n",
    "\n",
    "train_df = pd.DataFrame(columns = processed_features)\n",
    "\n",
    "for i in range(train_start_year,train_end_year):\n",
    "    \n",
    "    season = str(i) + '-' + str(i + 1)\n",
    "    \n",
    "    for league in train_chosen_leagues:\n",
    "        \n",
    "        table = data_seasons[season][league]\n",
    "        \n",
    "        two_concat = [train_df, table]\n",
    "        \n",
    "        train_df = pd.concat(two_concat)\n",
    "       \n",
    "\n",
    "#Starting week of training\n",
    "start_week_train = 20\n",
    "valid = train_df['week'] > start_week_train\n",
    "train_df = train_df[valid]\n",
    "        \n",
    "print(\"The model will train on : \" + str(train_chosen_leagues))\n",
    "        \n",
    "print(\"The model will train on \" + str(len(train_df)) + \" matches from \" + str(train_start_year) + '-' + str(train_start_year+1) + \" to \" + str(train_end_year-1) + '-' + str(train_end_year) + \" !\")\n",
    "\n",
    "#Choice of the features\n",
    "features = ['HT_average_goal_scored_half_1',\n",
    "           'HT_average_goal_conceeded_half_1', 'HT_average_goal_scored_half_2',\n",
    "           'HT_average_goal_conceeded_half_2',\n",
    "           'HT_average_shots_per_goal', 'HT_on_target_precision',\n",
    "           'HT_average_shots_conceeded',\n",
    "           'AT_average_goal_scored_half_1',\n",
    "           'AT_average_goal_conceeded_half_1', 'AT_average_goal_scored_half_2',\n",
    "           'AT_average_goal_conceeded_half_2',\n",
    "           'AT_average_shots_per_goal', 'AT_on_target_precision',\n",
    "           'AT_average_shots_conceeded']\n",
    "\n",
    "n_features = len(features)\n",
    "\n",
    "train_x = train_df[features]\n",
    "\n",
    "train_y = train_df['FTR']\n"
   ]
  },
  {
   "cell_type": "markdown",
   "metadata": {},
   "source": [
    "## Testing dataset"
   ]
  },
  {
   "cell_type": "code",
   "execution_count": 7,
   "metadata": {},
   "outputs": [
    {
     "ename": "KeyError",
     "evalue": "'2017-2018'",
     "output_type": "error",
     "traceback": [
      "\u001B[0;31m---------------------------------------------------------------------------\u001B[0m",
      "\u001B[0;31mKeyError\u001B[0m                                  Traceback (most recent call last)",
      "\u001B[0;32m<ipython-input-7-40614f7d37d2>\u001B[0m in \u001B[0;36m<module>\u001B[0;34m\u001B[0m\n\u001B[1;32m     13\u001B[0m     \u001B[0;32mfor\u001B[0m \u001B[0mleague\u001B[0m \u001B[0;32min\u001B[0m \u001B[0mtest_chosen_leagues\u001B[0m\u001B[0;34m:\u001B[0m\u001B[0;34m\u001B[0m\u001B[0;34m\u001B[0m\u001B[0m\n\u001B[1;32m     14\u001B[0m \u001B[0;34m\u001B[0m\u001B[0m\n\u001B[0;32m---> 15\u001B[0;31m         \u001B[0mtable\u001B[0m \u001B[0;34m=\u001B[0m \u001B[0mdata_seasons\u001B[0m\u001B[0;34m[\u001B[0m\u001B[0mseason\u001B[0m\u001B[0;34m]\u001B[0m\u001B[0;34m[\u001B[0m\u001B[0mleague\u001B[0m\u001B[0;34m]\u001B[0m\u001B[0;34m\u001B[0m\u001B[0;34m\u001B[0m\u001B[0m\n\u001B[0m\u001B[1;32m     16\u001B[0m \u001B[0;34m\u001B[0m\u001B[0m\n\u001B[1;32m     17\u001B[0m         \u001B[0mtwo_concat\u001B[0m \u001B[0;34m=\u001B[0m \u001B[0;34m[\u001B[0m\u001B[0mtest_df\u001B[0m\u001B[0;34m,\u001B[0m \u001B[0mtable\u001B[0m\u001B[0;34m]\u001B[0m\u001B[0;34m\u001B[0m\u001B[0;34m\u001B[0m\u001B[0m\n",
      "\u001B[0;31mKeyError\u001B[0m: '2017-2018'"
     ]
    }
   ],
   "source": [
    "#Selection of seasons used to test\n",
    "test_start_year = train_end_year\n",
    "test_end_year = 2020\n",
    "\n",
    "test_df = pd.DataFrame(columns = processed_features)\n",
    "\n",
    "test_chosen_leagues = ['PL'] # 'Ligue1','LaLiga','SerieA','Bundesliga'\n",
    "\n",
    "for i in range(test_start_year, test_end_year):\n",
    "    \n",
    "    season = str(i) + '-' + str(i + 1)\n",
    "    \n",
    "    for league in test_chosen_leagues:\n",
    "        \n",
    "        table = data_seasons[season][league]\n",
    "        \n",
    "        two_concat = [test_df, table]\n",
    "        \n",
    "        test_df = pd.concat(two_concat)\n",
    "\n",
    "#Starting week of training\n",
    "start_week_test = 20\n",
    "valid = test_df['week'] > start_week_test\n",
    "test_df = test_df[valid]\n",
    "\n",
    "#Choice of the features (we first delete the odds)\n",
    "test_x = test_df[features]\n",
    "\n",
    "#Labels for training\n",
    "test_y = test_df['FTR']\n",
    "\n",
    "\n",
    "print(\"The model will test on : \" + str(test_chosen_leagues))\n",
    "      \n",
    "print(\"The model will test on \" + str(len(test_df)) + \" matches from \" + str(test_start_year) + '-' + str(test_start_year+1) + \" to \" + str(test_end_year-1) + '-' + str(test_end_year) + \" !\")\n",
    "\n"
   ]
  },
  {
   "cell_type": "markdown",
   "metadata": {},
   "source": [
    "# Let's apply classical ML algorithms"
   ]
  },
  {
   "cell_type": "markdown",
   "metadata": {},
   "source": [
    "## Importing models"
   ]
  },
  {
   "cell_type": "code",
   "execution_count": 8,
   "metadata": {},
   "outputs": [],
   "source": [
    "#Dealing with format and metrics\n",
    "from sklearn.model_selection import GridSearchCV, train_test_split\n",
    "from sklearn.metrics import accuracy_score, confusion_matrix\n",
    "\n",
    "#Regression model\n",
    "from sklearn.linear_model import LogisticRegression\n",
    "from sklearn.gaussian_process import GaussianProcessClassifier\n",
    "from sklearn.gaussian_process.kernels import RBF\n",
    "\n",
    "#Classical classifiers\n",
    "from sklearn import svm\n",
    "from sklearn.tree import DecisionTreeClassifier\n",
    "\n",
    "#Ensemblist models\n",
    "from sklearn.ensemble import AdaBoostClassifier\n",
    "from sklearn.ensemble import RandomForestClassifier\n",
    "\n",
    "#Neural Networks\n",
    "from sklearn.neural_network import MLPClassifier"
   ]
  },
  {
   "cell_type": "markdown",
   "metadata": {},
   "source": [
    "## Training and testing : getting probabilities for test data"
   ]
  },
  {
   "cell_type": "markdown",
   "metadata": {},
   "source": [
    "### GridSearch on Random Forest"
   ]
  },
  {
   "cell_type": "code",
   "execution_count": 9,
   "metadata": {},
   "outputs": [
    {
     "name": "stdout",
     "output_type": "stream",
     "text": [
      "Training RF ...\n"
     ]
    },
    {
     "ename": "NameError",
     "evalue": "name 'train_x' is not defined",
     "output_type": "error",
     "traceback": [
      "\u001B[0;31m---------------------------------------------------------------------------\u001B[0m",
      "\u001B[0;31mNameError\u001B[0m                                 Traceback (most recent call last)",
      "\u001B[0;32m<ipython-input-9-85b6d40117a9>\u001B[0m in \u001B[0;36m<module>\u001B[0;34m\u001B[0m\n\u001B[1;32m     12\u001B[0m \u001B[0;34m\u001B[0m\u001B[0m\n\u001B[1;32m     13\u001B[0m \u001B[0mprint\u001B[0m\u001B[0;34m(\u001B[0m\u001B[0;34m\"Training \"\u001B[0m \u001B[0;34m+\u001B[0m \u001B[0mname\u001B[0m \u001B[0;34m+\u001B[0m \u001B[0;34m\" ...\"\u001B[0m\u001B[0;34m)\u001B[0m\u001B[0;34m\u001B[0m\u001B[0;34m\u001B[0m\u001B[0m\n\u001B[0;32m---> 14\u001B[0;31m \u001B[0mRFClassifier\u001B[0m\u001B[0;34m.\u001B[0m\u001B[0mfit\u001B[0m\u001B[0;34m(\u001B[0m\u001B[0mtrain_x\u001B[0m\u001B[0;34m,\u001B[0m \u001B[0mtrain_y\u001B[0m\u001B[0;34m)\u001B[0m\u001B[0;34m\u001B[0m\u001B[0;34m\u001B[0m\u001B[0m\n\u001B[0m\u001B[1;32m     15\u001B[0m \u001B[0;34m\u001B[0m\u001B[0m\n\u001B[1;32m     16\u001B[0m \u001B[0my_pred\u001B[0m \u001B[0;34m=\u001B[0m \u001B[0mRFClassifier\u001B[0m\u001B[0;34m.\u001B[0m\u001B[0mpredict\u001B[0m\u001B[0;34m(\u001B[0m\u001B[0mtest_x\u001B[0m\u001B[0;34m)\u001B[0m\u001B[0;34m\u001B[0m\u001B[0;34m\u001B[0m\u001B[0m\n",
      "\u001B[0;31mNameError\u001B[0m: name 'train_x' is not defined"
     ]
    }
   ],
   "source": [
    "parameters = {'n_estimators':[100,200], 'max_depth':[25,100], 'min_samples_split':[5,10]}\n",
    "\n",
    "forest = RandomForestClassifier(criterion='gini', min_samples_leaf=1, \n",
    "                                min_weight_fraction_leaf=0.0, max_features='auto', \n",
    "                                max_leaf_nodes=None, min_impurity_decrease=0.0, \n",
    "                                min_impurity_split=None, bootstrap=True, oob_score=False, \n",
    "                                n_jobs=None, random_state=None)\n",
    "\n",
    "RFClassifier = GridSearchCV(forest, parameters,verbose=100)\n",
    "\n",
    "name = 'RF'\n",
    "\n",
    "print(\"Training \" + name + \" ...\")\n",
    "RFClassifier.fit(train_x, train_y)\n",
    "\n",
    "y_pred = RFClassifier.predict(test_x)\n",
    "accuracy = accuracy_score(test_y, y_pred)\n",
    "print(\"Accuracy (test) for %s: %0.1f%% \" % (name, accuracy * 100))\n",
    "    \n",
    "#Calculate probabilities:\n",
    "probas = RFClassifier.predict_proba(test_x)\n",
    ";"
   ]
  },
  {
   "cell_type": "markdown",
   "metadata": {},
   "source": [
    "### Testing various models"
   ]
  },
  {
   "cell_type": "code",
   "execution_count": 10,
   "metadata": {},
   "outputs": [
    {
     "name": "stdout",
     "output_type": "stream",
     "text": [
      "Training L1 logistic...\n"
     ]
    },
    {
     "ename": "NameError",
     "evalue": "name 'train_x' is not defined",
     "output_type": "error",
     "traceback": [
      "\u001B[0;31m---------------------------------------------------------------------------\u001B[0m",
      "\u001B[0;31mNameError\u001B[0m                                 Traceback (most recent call last)",
      "\u001B[0;32m<ipython-input-10-0a644fc54154>\u001B[0m in \u001B[0;36m<module>\u001B[0;34m\u001B[0m\n\u001B[1;32m     30\u001B[0m \u001B[0;32mfor\u001B[0m \u001B[0mindex\u001B[0m\u001B[0;34m,\u001B[0m \u001B[0;34m(\u001B[0m\u001B[0mname\u001B[0m\u001B[0;34m,\u001B[0m \u001B[0mclassifier\u001B[0m\u001B[0;34m)\u001B[0m \u001B[0;32min\u001B[0m \u001B[0menumerate\u001B[0m\u001B[0;34m(\u001B[0m\u001B[0mclassifiers\u001B[0m\u001B[0;34m.\u001B[0m\u001B[0mitems\u001B[0m\u001B[0;34m(\u001B[0m\u001B[0;34m)\u001B[0m\u001B[0;34m)\u001B[0m\u001B[0;34m:\u001B[0m\u001B[0;34m\u001B[0m\u001B[0;34m\u001B[0m\u001B[0m\n\u001B[1;32m     31\u001B[0m     \u001B[0mprint\u001B[0m\u001B[0;34m(\u001B[0m\u001B[0;34m\"Training \"\u001B[0m \u001B[0;34m+\u001B[0m \u001B[0mname\u001B[0m \u001B[0;34m+\u001B[0m \u001B[0;34m\"...\"\u001B[0m\u001B[0;34m)\u001B[0m\u001B[0;34m\u001B[0m\u001B[0;34m\u001B[0m\u001B[0m\n\u001B[0;32m---> 32\u001B[0;31m     \u001B[0mclassifier\u001B[0m\u001B[0;34m.\u001B[0m\u001B[0mfit\u001B[0m\u001B[0;34m(\u001B[0m\u001B[0mtrain_x\u001B[0m\u001B[0;34m,\u001B[0m \u001B[0mtrain_y\u001B[0m\u001B[0;34m)\u001B[0m\u001B[0;34m\u001B[0m\u001B[0;34m\u001B[0m\u001B[0m\n\u001B[0m\u001B[1;32m     33\u001B[0m \u001B[0;34m\u001B[0m\u001B[0m\n\u001B[1;32m     34\u001B[0m     \u001B[0my_pred\u001B[0m \u001B[0;34m=\u001B[0m \u001B[0mclassifier\u001B[0m\u001B[0;34m.\u001B[0m\u001B[0mpredict\u001B[0m\u001B[0;34m(\u001B[0m\u001B[0mtest_x\u001B[0m\u001B[0;34m)\u001B[0m\u001B[0;34m\u001B[0m\u001B[0;34m\u001B[0m\u001B[0m\n",
      "\u001B[0;31mNameError\u001B[0m: name 'train_x' is not defined"
     ]
    }
   ],
   "source": [
    "# Dealing with parameters\n",
    "C = 0.8\n",
    "\n",
    "# Create different classifiers.\n",
    "classifiers = {\n",
    "    'L1 logistic': LogisticRegression(C=C, penalty='l1',\n",
    "                                      solver='saga', tol=0.000001,\n",
    "                                      multi_class='multinomial',\n",
    "                                      max_iter=1000000),\n",
    "    'L2 logistic (Multinomial)': LogisticRegression(C=C, penalty='l2',\n",
    "                                                    solver='saga', tol=0.000001,\n",
    "                                                    multi_class='multinomial',\n",
    "                                                    max_iter=1000000),\n",
    "    'L2 logistic (OvR)': LogisticRegression(C=C, penalty='l2',\n",
    "                                            solver='saga',\n",
    "                                            multi_class='ovr',\n",
    "                                            max_iter=10000),\n",
    "    'Random Forest': RandomForestClassifier(n_estimators=1000, criterion='gini', max_depth=25, \n",
    "                                            min_samples_split=2, min_samples_leaf=1, \n",
    "                                            min_weight_fraction_leaf=0.0, max_features='auto', \n",
    "                                            max_leaf_nodes=None, min_impurity_decrease=0.0, \n",
    "                                            min_impurity_split=None, bootstrap=True, oob_score=False, \n",
    "                                            n_jobs=None, random_state=None)\n",
    "}\n",
    "\n",
    "n_classifiers = len(classifiers)\n",
    "\n",
    "results = {}\n",
    "\n",
    "for index, (name, classifier) in enumerate(classifiers.items()):\n",
    "    print(\"Training \" + name + \"...\")\n",
    "    classifier.fit(train_x, train_y)\n",
    "\n",
    "    y_pred = classifier.predict(test_x)\n",
    "    accuracy = accuracy_score(test_y, y_pred)\n",
    "    print(\"Accuracy (test) for %s: %0.1f%% \" % (name, accuracy * 100))\n",
    "    \n",
    "    #Calculate probabilities:\n",
    "    probas = classifier.predict_proba(test_x)\n",
    "    \n",
    "    #store them in a dict\n",
    "    results[name] = probas\n",
    ";"
   ]
  },
  {
   "cell_type": "markdown",
   "metadata": {},
   "source": [
    "# Let's try with Neural Networks"
   ]
  },
  {
   "cell_type": "markdown",
   "metadata": {},
   "source": [
    "## Imports"
   ]
  },
  {
   "cell_type": "code",
   "execution_count": 11,
   "metadata": {},
   "outputs": [
    {
     "name": "stdout",
     "output_type": "stream",
     "text": [
      "WARNING:tensorflow:From /home/xcoder/.local/lib/python3.6/site-packages/tensorflow/python/compat/v2_compat.py:101: disable_resource_variables (from tensorflow.python.ops.variable_scope) is deprecated and will be removed in a future version.\n",
      "Instructions for updating:\n",
      "non-resource variables are not supported in the long term\n"
     ]
    }
   ],
   "source": [
    "import tensorflow.compat.v1 as tf\n",
    "tf.disable_v2_behavior()\n",
    "from numpy import argmax\n",
    "from sklearn.preprocessing import LabelEncoder\n",
    "from sklearn.preprocessing import OneHotEncoder\n",
    "from sklearn import preprocessing\n",
    "\n",
    "#Keras tuners\n",
    "from kerastuner.tuners import RandomSearch\n",
    "from kerastuner.engine.hyperparameters import HyperParameters\n",
    "\n",
    "#Time\n",
    "import time"
   ]
  },
  {
   "cell_type": "markdown",
   "metadata": {},
   "source": [
    "## Parameters"
   ]
  },
  {
   "cell_type": "code",
   "execution_count": 12,
   "metadata": {},
   "outputs": [
    {
     "ename": "NameError",
     "evalue": "name 'train_x' is not defined",
     "output_type": "error",
     "traceback": [
      "\u001B[0;31m---------------------------------------------------------------------------\u001B[0m",
      "\u001B[0;31mNameError\u001B[0m                                 Traceback (most recent call last)",
      "\u001B[0;32m<ipython-input-12-51dc5501f03a>\u001B[0m in \u001B[0;36m<module>\u001B[0;34m\u001B[0m\n\u001B[1;32m      1\u001B[0m \u001B[0mn_classes\u001B[0m \u001B[0;34m=\u001B[0m \u001B[0;36m3\u001B[0m\u001B[0;34m\u001B[0m\u001B[0;34m\u001B[0m\u001B[0m\n\u001B[0;32m----> 2\u001B[0;31m \u001B[0mn_features\u001B[0m \u001B[0;34m=\u001B[0m \u001B[0mtrain_x\u001B[0m\u001B[0;34m.\u001B[0m\u001B[0mshape\u001B[0m\u001B[0;34m[\u001B[0m\u001B[0;36m1\u001B[0m\u001B[0;34m]\u001B[0m\u001B[0;34m\u001B[0m\u001B[0;34m\u001B[0m\u001B[0m\n\u001B[0m\u001B[1;32m      3\u001B[0m \u001B[0mn_epochs\u001B[0m \u001B[0;34m=\u001B[0m \u001B[0;36m10\u001B[0m\u001B[0;34m\u001B[0m\u001B[0;34m\u001B[0m\u001B[0m\n",
      "\u001B[0;31mNameError\u001B[0m: name 'train_x' is not defined"
     ]
    }
   ],
   "source": [
    "n_classes = 3\n",
    "n_features = train_x.shape[1]\n",
    "n_epochs = 10"
   ]
  },
  {
   "cell_type": "markdown",
   "metadata": {},
   "source": [
    "## Preprocessing"
   ]
  },
  {
   "cell_type": "code",
   "execution_count": 13,
   "metadata": {},
   "outputs": [
    {
     "ename": "NameError",
     "evalue": "name 'test_x' is not defined",
     "output_type": "error",
     "traceback": [
      "\u001B[0;31m---------------------------------------------------------------------------\u001B[0m",
      "\u001B[0;31mNameError\u001B[0m                                 Traceback (most recent call last)",
      "\u001B[0;32m<ipython-input-13-31df8e1d5b33>\u001B[0m in \u001B[0;36m<module>\u001B[0;34m\u001B[0m\n\u001B[0;32m----> 1\u001B[0;31m \u001B[0mtest_X\u001B[0m \u001B[0;34m=\u001B[0m \u001B[0mtest_x\u001B[0m\u001B[0;34m.\u001B[0m\u001B[0mvalues\u001B[0m\u001B[0;34m\u001B[0m\u001B[0;34m\u001B[0m\u001B[0m\n\u001B[0m\u001B[1;32m      2\u001B[0m \u001B[0mtest_Y\u001B[0m \u001B[0;34m=\u001B[0m \u001B[0mtest_y\u001B[0m\u001B[0;34m.\u001B[0m\u001B[0mvalues\u001B[0m\u001B[0;34m\u001B[0m\u001B[0;34m\u001B[0m\u001B[0m\n\u001B[1;32m      3\u001B[0m \u001B[0mtrain_X\u001B[0m \u001B[0;34m=\u001B[0m \u001B[0mtrain_x\u001B[0m\u001B[0;34m.\u001B[0m\u001B[0mvalues\u001B[0m\u001B[0;34m\u001B[0m\u001B[0;34m\u001B[0m\u001B[0m\n\u001B[1;32m      4\u001B[0m \u001B[0mtrain_Y\u001B[0m \u001B[0;34m=\u001B[0m \u001B[0mtrain_y\u001B[0m\u001B[0;34m.\u001B[0m\u001B[0mvalues\u001B[0m\u001B[0;34m\u001B[0m\u001B[0;34m\u001B[0m\u001B[0m\n\u001B[1;32m      5\u001B[0m \u001B[0;34m\u001B[0m\u001B[0m\n",
      "\u001B[0;31mNameError\u001B[0m: name 'test_x' is not defined"
     ]
    }
   ],
   "source": [
    "test_X = test_x.values\n",
    "test_Y = test_y.values\n",
    "train_X = train_x.values\n",
    "train_Y = train_y.values\n",
    "\n",
    "#Features\n",
    "min_max_scaler = preprocessing.MinMaxScaler()\n",
    "train_X_scaled = min_max_scaler.fit_transform(train_X)\n",
    "test_X_scaled = min_max_scaler.transform(test_X)\n",
    "\n",
    "#Labels\n",
    "# integer encode\n",
    "label_encoder = LabelEncoder()\n",
    "train_Y_integer_encoded = label_encoder.fit_transform(train_Y)\n",
    "test_Y_integer_encoded = label_encoder.transform(test_Y)\n",
    "\n",
    "# binary encode\n",
    "onehot_encoder = OneHotEncoder(sparse=False)\n",
    "train_Y_integer_encoded = train_Y_integer_encoded.reshape(len(train_Y_integer_encoded), 1)\n",
    "train_Y_onehot_encoded = onehot_encoder.fit_transform(train_Y_integer_encoded)\n",
    "test_Y_integer_encoded = test_Y_integer_encoded.reshape(len(test_Y_integer_encoded), 1)\n",
    "test_Y_onehot_encoded = onehot_encoder.transform(test_Y_integer_encoded)\n"
   ]
  },
  {
   "cell_type": "markdown",
   "metadata": {},
   "source": [
    "## Searching for a relevant architecture model"
   ]
  },
  {
   "cell_type": "code",
   "execution_count": 14,
   "metadata": {},
   "outputs": [],
   "source": [
    "log_dir = f\"{int(time.time())}\"\n",
    "\n",
    "def build_model(hp):\n",
    "    model = tf.keras.models.Sequential()\n",
    "    \n",
    "    model.add(tf.keras.layers.Dense(hp.Int(\"n_input_neurons\",min_value = 10, max_value = 200, step = 20), input_dim=n_features, activation =tf.nn.relu))\n",
    "    \n",
    "    for i in range(hp.Int(\"n_layers\", 1, 3)):\n",
    "        model.add(tf.keras.layers.Dense(hp.Int(f\"layer_{i}_neurons\",min_value = 10, max_value = 200, step = 20), activation =tf.nn.relu))\n",
    "\n",
    "    #Output layer\n",
    "    model.add(tf.keras.layers.Dense(n_classes,activation =tf.nn.softmax))\n",
    "\n",
    "    #Compile\n",
    "    model.compile(optimizer = 'adam',\n",
    "                  loss = 'categorical_crossentropy',\n",
    "                  metrics = [\"accuracy\"])\n",
    "    return model\n"
   ]
  },
  {
   "cell_type": "code",
   "execution_count": 15,
   "metadata": {},
   "outputs": [
    {
     "name": "stderr",
     "output_type": "stream",
     "text": [
      "Traceback (most recent call last):\n",
      "  File \"/home/xcoder/.local/lib/python3.6/site-packages/keras_tuner/engine/hypermodel.py\", line 127, in build\n",
      "    model = self.hypermodel.build(hp)\n",
      "  File \"<ipython-input-14-516ad22e8656>\", line 6, in build_model\n",
      "    model.add(tf.keras.layers.Dense(hp.Int(\"n_input_neurons\",min_value = 10, max_value = 200, step = 20), input_dim=n_features, activation =tf.nn.relu))\n",
      "NameError: name 'n_features' is not defined\n",
      "Traceback (most recent call last):\n",
      "  File \"/home/xcoder/.local/lib/python3.6/site-packages/keras_tuner/engine/hypermodel.py\", line 127, in build\n",
      "    model = self.hypermodel.build(hp)\n",
      "  File \"<ipython-input-14-516ad22e8656>\", line 6, in build_model\n",
      "    model.add(tf.keras.layers.Dense(hp.Int(\"n_input_neurons\",min_value = 10, max_value = 200, step = 20), input_dim=n_features, activation =tf.nn.relu))\n",
      "NameError: name 'n_features' is not defined\n",
      "Traceback (most recent call last):\n",
      "  File \"/home/xcoder/.local/lib/python3.6/site-packages/keras_tuner/engine/hypermodel.py\", line 127, in build\n",
      "    model = self.hypermodel.build(hp)\n",
      "  File \"<ipython-input-14-516ad22e8656>\", line 6, in build_model\n",
      "    model.add(tf.keras.layers.Dense(hp.Int(\"n_input_neurons\",min_value = 10, max_value = 200, step = 20), input_dim=n_features, activation =tf.nn.relu))\n",
      "NameError: name 'n_features' is not defined\n"
     ]
    },
    {
     "name": "stdout",
     "output_type": "stream",
     "text": [
      "Invalid model 0/5\n",
      "Invalid model 1/5\n",
      "Invalid model 2/5\n",
      "Invalid model 3/5\n",
      "Invalid model 4/5\n",
      "Invalid model 5/5\n"
     ]
    },
    {
     "name": "stderr",
     "output_type": "stream",
     "text": [
      "Traceback (most recent call last):\n",
      "  File \"/home/xcoder/.local/lib/python3.6/site-packages/keras_tuner/engine/hypermodel.py\", line 127, in build\n",
      "    model = self.hypermodel.build(hp)\n",
      "  File \"<ipython-input-14-516ad22e8656>\", line 6, in build_model\n",
      "    model.add(tf.keras.layers.Dense(hp.Int(\"n_input_neurons\",min_value = 10, max_value = 200, step = 20), input_dim=n_features, activation =tf.nn.relu))\n",
      "NameError: name 'n_features' is not defined\n",
      "Traceback (most recent call last):\n",
      "  File \"/home/xcoder/.local/lib/python3.6/site-packages/keras_tuner/engine/hypermodel.py\", line 127, in build\n",
      "    model = self.hypermodel.build(hp)\n",
      "  File \"<ipython-input-14-516ad22e8656>\", line 6, in build_model\n",
      "    model.add(tf.keras.layers.Dense(hp.Int(\"n_input_neurons\",min_value = 10, max_value = 200, step = 20), input_dim=n_features, activation =tf.nn.relu))\n",
      "NameError: name 'n_features' is not defined\n",
      "Traceback (most recent call last):\n",
      "  File \"/home/xcoder/.local/lib/python3.6/site-packages/keras_tuner/engine/hypermodel.py\", line 127, in build\n",
      "    model = self.hypermodel.build(hp)\n",
      "  File \"<ipython-input-14-516ad22e8656>\", line 6, in build_model\n",
      "    model.add(tf.keras.layers.Dense(hp.Int(\"n_input_neurons\",min_value = 10, max_value = 200, step = 20), input_dim=n_features, activation =tf.nn.relu))\n",
      "NameError: name 'n_features' is not defined\n"
     ]
    },
    {
     "ename": "RuntimeError",
     "evalue": "Too many failed attempts to build model.",
     "output_type": "error",
     "traceback": [
      "\u001B[0;31m---------------------------------------------------------------------------\u001B[0m",
      "\u001B[0;31mNameError\u001B[0m                                 Traceback (most recent call last)",
      "\u001B[0;32m~/.local/lib/python3.6/site-packages/keras_tuner/engine/hypermodel.py\u001B[0m in \u001B[0;36mbuild\u001B[0;34m(self, hp)\u001B[0m\n\u001B[1;32m    126\u001B[0m                 \u001B[0;32mwith\u001B[0m \u001B[0mmaybe_distribute\u001B[0m\u001B[0;34m(\u001B[0m\u001B[0mself\u001B[0m\u001B[0;34m.\u001B[0m\u001B[0mdistribution_strategy\u001B[0m\u001B[0;34m)\u001B[0m\u001B[0;34m:\u001B[0m\u001B[0;34m\u001B[0m\u001B[0;34m\u001B[0m\u001B[0m\n\u001B[0;32m--> 127\u001B[0;31m                     \u001B[0mmodel\u001B[0m \u001B[0;34m=\u001B[0m \u001B[0mself\u001B[0m\u001B[0;34m.\u001B[0m\u001B[0mhypermodel\u001B[0m\u001B[0;34m.\u001B[0m\u001B[0mbuild\u001B[0m\u001B[0;34m(\u001B[0m\u001B[0mhp\u001B[0m\u001B[0;34m)\u001B[0m\u001B[0;34m\u001B[0m\u001B[0;34m\u001B[0m\u001B[0m\n\u001B[0m\u001B[1;32m    128\u001B[0m             \u001B[0;32mexcept\u001B[0m\u001B[0;34m:\u001B[0m\u001B[0;34m\u001B[0m\u001B[0;34m\u001B[0m\u001B[0m\n",
      "\u001B[0;32m<ipython-input-14-516ad22e8656>\u001B[0m in \u001B[0;36mbuild_model\u001B[0;34m(hp)\u001B[0m\n\u001B[1;32m      5\u001B[0m \u001B[0;34m\u001B[0m\u001B[0m\n\u001B[0;32m----> 6\u001B[0;31m     \u001B[0mmodel\u001B[0m\u001B[0;34m.\u001B[0m\u001B[0madd\u001B[0m\u001B[0;34m(\u001B[0m\u001B[0mtf\u001B[0m\u001B[0;34m.\u001B[0m\u001B[0mkeras\u001B[0m\u001B[0;34m.\u001B[0m\u001B[0mlayers\u001B[0m\u001B[0;34m.\u001B[0m\u001B[0mDense\u001B[0m\u001B[0;34m(\u001B[0m\u001B[0mhp\u001B[0m\u001B[0;34m.\u001B[0m\u001B[0mInt\u001B[0m\u001B[0;34m(\u001B[0m\u001B[0;34m\"n_input_neurons\"\u001B[0m\u001B[0;34m,\u001B[0m\u001B[0mmin_value\u001B[0m \u001B[0;34m=\u001B[0m \u001B[0;36m10\u001B[0m\u001B[0;34m,\u001B[0m \u001B[0mmax_value\u001B[0m \u001B[0;34m=\u001B[0m \u001B[0;36m200\u001B[0m\u001B[0;34m,\u001B[0m \u001B[0mstep\u001B[0m \u001B[0;34m=\u001B[0m \u001B[0;36m20\u001B[0m\u001B[0;34m)\u001B[0m\u001B[0;34m,\u001B[0m \u001B[0minput_dim\u001B[0m\u001B[0;34m=\u001B[0m\u001B[0mn_features\u001B[0m\u001B[0;34m,\u001B[0m \u001B[0mactivation\u001B[0m \u001B[0;34m=\u001B[0m\u001B[0mtf\u001B[0m\u001B[0;34m.\u001B[0m\u001B[0mnn\u001B[0m\u001B[0;34m.\u001B[0m\u001B[0mrelu\u001B[0m\u001B[0;34m)\u001B[0m\u001B[0;34m)\u001B[0m\u001B[0;34m\u001B[0m\u001B[0;34m\u001B[0m\u001B[0m\n\u001B[0m\u001B[1;32m      7\u001B[0m \u001B[0;34m\u001B[0m\u001B[0m\n",
      "\u001B[0;31mNameError\u001B[0m: name 'n_features' is not defined",
      "\nDuring handling of the above exception, another exception occurred:\n",
      "\u001B[0;31mRuntimeError\u001B[0m                              Traceback (most recent call last)",
      "\u001B[0;32m<ipython-input-15-3673efd785b5>\u001B[0m in \u001B[0;36m<module>\u001B[0;34m\u001B[0m\n\u001B[1;32m      4\u001B[0m         \u001B[0mmax_trials\u001B[0m \u001B[0;34m=\u001B[0m \u001B[0;36m10\u001B[0m\u001B[0;34m,\u001B[0m\u001B[0;34m\u001B[0m\u001B[0;34m\u001B[0m\u001B[0m\n\u001B[1;32m      5\u001B[0m         \u001B[0mexecutions_per_trial\u001B[0m \u001B[0;34m=\u001B[0m \u001B[0;36m2\u001B[0m\u001B[0;34m,\u001B[0m\u001B[0;34m\u001B[0m\u001B[0;34m\u001B[0m\u001B[0m\n\u001B[0;32m----> 6\u001B[0;31m         \u001B[0mdirectory\u001B[0m \u001B[0;34m=\u001B[0m \u001B[0mlog_dir\u001B[0m\u001B[0;34m\u001B[0m\u001B[0;34m\u001B[0m\u001B[0m\n\u001B[0m\u001B[1;32m      7\u001B[0m         )\n\u001B[1;32m      8\u001B[0m \u001B[0;34m\u001B[0m\u001B[0m\n",
      "\u001B[0;32m~/.local/lib/python3.6/site-packages/keras_tuner/tuners/randomsearch.py\u001B[0m in \u001B[0;36m__init__\u001B[0;34m(self, hypermodel, objective, max_trials, seed, hyperparameters, tune_new_entries, allow_new_entries, **kwargs)\u001B[0m\n\u001B[1;32m    132\u001B[0m             \u001B[0mallow_new_entries\u001B[0m\u001B[0;34m=\u001B[0m\u001B[0mallow_new_entries\u001B[0m\u001B[0;34m,\u001B[0m\u001B[0;34m\u001B[0m\u001B[0;34m\u001B[0m\u001B[0m\n\u001B[1;32m    133\u001B[0m         )\n\u001B[0;32m--> 134\u001B[0;31m         \u001B[0msuper\u001B[0m\u001B[0;34m(\u001B[0m\u001B[0mRandomSearch\u001B[0m\u001B[0;34m,\u001B[0m \u001B[0mself\u001B[0m\u001B[0;34m)\u001B[0m\u001B[0;34m.\u001B[0m\u001B[0m__init__\u001B[0m\u001B[0;34m(\u001B[0m\u001B[0moracle\u001B[0m\u001B[0;34m,\u001B[0m \u001B[0mhypermodel\u001B[0m\u001B[0;34m,\u001B[0m \u001B[0;34m**\u001B[0m\u001B[0mkwargs\u001B[0m\u001B[0;34m)\u001B[0m\u001B[0;34m\u001B[0m\u001B[0;34m\u001B[0m\u001B[0m\n\u001B[0m",
      "\u001B[0;32m~/.local/lib/python3.6/site-packages/keras_tuner/engine/multi_execution_tuner.py\u001B[0m in \u001B[0;36m__init__\u001B[0;34m(self, oracle, hypermodel, executions_per_trial, **kwargs)\u001B[0m\n\u001B[1;32m     49\u001B[0m \u001B[0;34m\u001B[0m\u001B[0m\n\u001B[1;32m     50\u001B[0m     \u001B[0;32mdef\u001B[0m \u001B[0m__init__\u001B[0m\u001B[0;34m(\u001B[0m\u001B[0mself\u001B[0m\u001B[0;34m,\u001B[0m \u001B[0moracle\u001B[0m\u001B[0;34m,\u001B[0m \u001B[0mhypermodel\u001B[0m\u001B[0;34m,\u001B[0m \u001B[0mexecutions_per_trial\u001B[0m\u001B[0;34m=\u001B[0m\u001B[0;36m1\u001B[0m\u001B[0;34m,\u001B[0m \u001B[0;34m**\u001B[0m\u001B[0mkwargs\u001B[0m\u001B[0;34m)\u001B[0m\u001B[0;34m:\u001B[0m\u001B[0;34m\u001B[0m\u001B[0;34m\u001B[0m\u001B[0m\n\u001B[0;32m---> 51\u001B[0;31m         \u001B[0msuper\u001B[0m\u001B[0;34m(\u001B[0m\u001B[0mMultiExecutionTuner\u001B[0m\u001B[0;34m,\u001B[0m \u001B[0mself\u001B[0m\u001B[0;34m)\u001B[0m\u001B[0;34m.\u001B[0m\u001B[0m__init__\u001B[0m\u001B[0;34m(\u001B[0m\u001B[0moracle\u001B[0m\u001B[0;34m,\u001B[0m \u001B[0mhypermodel\u001B[0m\u001B[0;34m,\u001B[0m \u001B[0;34m**\u001B[0m\u001B[0mkwargs\u001B[0m\u001B[0;34m)\u001B[0m\u001B[0;34m\u001B[0m\u001B[0;34m\u001B[0m\u001B[0m\n\u001B[0m\u001B[1;32m     52\u001B[0m         \u001B[0;32mif\u001B[0m \u001B[0misinstance\u001B[0m\u001B[0;34m(\u001B[0m\u001B[0moracle\u001B[0m\u001B[0;34m.\u001B[0m\u001B[0mobjective\u001B[0m\u001B[0;34m,\u001B[0m \u001B[0mlist\u001B[0m\u001B[0;34m)\u001B[0m\u001B[0;34m:\u001B[0m\u001B[0;34m\u001B[0m\u001B[0;34m\u001B[0m\u001B[0m\n\u001B[1;32m     53\u001B[0m             raise ValueError(\n",
      "\u001B[0;32m~/.local/lib/python3.6/site-packages/keras_tuner/engine/tuner.py\u001B[0m in \u001B[0;36m__init__\u001B[0;34m(self, oracle, hypermodel, max_model_size, optimizer, loss, metrics, distribution_strategy, directory, project_name, logger, tuner_id, overwrite)\u001B[0m\n\u001B[1;32m    106\u001B[0m             \u001B[0mproject_name\u001B[0m\u001B[0;34m=\u001B[0m\u001B[0mproject_name\u001B[0m\u001B[0;34m,\u001B[0m\u001B[0;34m\u001B[0m\u001B[0;34m\u001B[0m\u001B[0m\n\u001B[1;32m    107\u001B[0m             \u001B[0mlogger\u001B[0m\u001B[0;34m=\u001B[0m\u001B[0mlogger\u001B[0m\u001B[0;34m,\u001B[0m\u001B[0;34m\u001B[0m\u001B[0;34m\u001B[0m\u001B[0m\n\u001B[0;32m--> 108\u001B[0;31m             \u001B[0moverwrite\u001B[0m\u001B[0;34m=\u001B[0m\u001B[0moverwrite\u001B[0m\u001B[0;34m,\u001B[0m\u001B[0;34m\u001B[0m\u001B[0;34m\u001B[0m\u001B[0m\n\u001B[0m\u001B[1;32m    109\u001B[0m         )\n\u001B[1;32m    110\u001B[0m \u001B[0;34m\u001B[0m\u001B[0m\n",
      "\u001B[0;32m~/.local/lib/python3.6/site-packages/keras_tuner/engine/base_tuner.py\u001B[0m in \u001B[0;36m__init__\u001B[0;34m(self, oracle, hypermodel, directory, project_name, logger, overwrite)\u001B[0m\n\u001B[1;32m    100\u001B[0m         \u001B[0mself\u001B[0m\u001B[0;34m.\u001B[0m\u001B[0m_display\u001B[0m \u001B[0;34m=\u001B[0m \u001B[0mtuner_utils\u001B[0m\u001B[0;34m.\u001B[0m\u001B[0mDisplay\u001B[0m\u001B[0;34m(\u001B[0m\u001B[0moracle\u001B[0m\u001B[0;34m=\u001B[0m\u001B[0mself\u001B[0m\u001B[0;34m.\u001B[0m\u001B[0moracle\u001B[0m\u001B[0;34m)\u001B[0m\u001B[0;34m\u001B[0m\u001B[0;34m\u001B[0m\u001B[0m\n\u001B[1;32m    101\u001B[0m \u001B[0;34m\u001B[0m\u001B[0m\n\u001B[0;32m--> 102\u001B[0;31m         \u001B[0mself\u001B[0m\u001B[0;34m.\u001B[0m\u001B[0m_populate_initial_space\u001B[0m\u001B[0;34m(\u001B[0m\u001B[0;34m)\u001B[0m\u001B[0;34m\u001B[0m\u001B[0;34m\u001B[0m\u001B[0m\n\u001B[0m\u001B[1;32m    103\u001B[0m \u001B[0;34m\u001B[0m\u001B[0m\n\u001B[1;32m    104\u001B[0m         \u001B[0;32mif\u001B[0m \u001B[0;32mnot\u001B[0m \u001B[0moverwrite\u001B[0m \u001B[0;32mand\u001B[0m \u001B[0mtf\u001B[0m\u001B[0;34m.\u001B[0m\u001B[0mio\u001B[0m\u001B[0;34m.\u001B[0m\u001B[0mgfile\u001B[0m\u001B[0;34m.\u001B[0m\u001B[0mexists\u001B[0m\u001B[0;34m(\u001B[0m\u001B[0mself\u001B[0m\u001B[0;34m.\u001B[0m\u001B[0m_get_tuner_fname\u001B[0m\u001B[0;34m(\u001B[0m\u001B[0;34m)\u001B[0m\u001B[0;34m)\u001B[0m\u001B[0;34m:\u001B[0m\u001B[0;34m\u001B[0m\u001B[0;34m\u001B[0m\u001B[0m\n",
      "\u001B[0;32m~/.local/lib/python3.6/site-packages/keras_tuner/engine/base_tuner.py\u001B[0m in \u001B[0;36m_populate_initial_space\u001B[0;34m(self)\u001B[0m\n\u001B[1;32m    116\u001B[0m         \"\"\"\n\u001B[1;32m    117\u001B[0m         \u001B[0mhp\u001B[0m \u001B[0;34m=\u001B[0m \u001B[0mself\u001B[0m\u001B[0;34m.\u001B[0m\u001B[0moracle\u001B[0m\u001B[0;34m.\u001B[0m\u001B[0mget_space\u001B[0m\u001B[0;34m(\u001B[0m\u001B[0;34m)\u001B[0m\u001B[0;34m\u001B[0m\u001B[0;34m\u001B[0m\u001B[0m\n\u001B[0;32m--> 118\u001B[0;31m         \u001B[0mself\u001B[0m\u001B[0;34m.\u001B[0m\u001B[0mhypermodel\u001B[0m\u001B[0;34m.\u001B[0m\u001B[0mbuild\u001B[0m\u001B[0;34m(\u001B[0m\u001B[0mhp\u001B[0m\u001B[0;34m)\u001B[0m\u001B[0;34m\u001B[0m\u001B[0;34m\u001B[0m\u001B[0m\n\u001B[0m\u001B[1;32m    119\u001B[0m         \u001B[0mself\u001B[0m\u001B[0;34m.\u001B[0m\u001B[0moracle\u001B[0m\u001B[0;34m.\u001B[0m\u001B[0mupdate_space\u001B[0m\u001B[0;34m(\u001B[0m\u001B[0mhp\u001B[0m\u001B[0;34m)\u001B[0m\u001B[0;34m\u001B[0m\u001B[0;34m\u001B[0m\u001B[0m\n\u001B[1;32m    120\u001B[0m \u001B[0;34m\u001B[0m\u001B[0m\n",
      "\u001B[0;32m~/.local/lib/python3.6/site-packages/keras_tuner/engine/hypermodel.py\u001B[0m in \u001B[0;36m_build_wrapper\u001B[0;34m(self, hp, *args, **kwargs)\u001B[0m\n\u001B[1;32m     82\u001B[0m             \u001B[0;31m# to the search space.\u001B[0m\u001B[0;34m\u001B[0m\u001B[0;34m\u001B[0m\u001B[0;34m\u001B[0m\u001B[0m\n\u001B[1;32m     83\u001B[0m             \u001B[0mhp\u001B[0m \u001B[0;34m=\u001B[0m \u001B[0mhp\u001B[0m\u001B[0;34m.\u001B[0m\u001B[0mcopy\u001B[0m\u001B[0;34m(\u001B[0m\u001B[0;34m)\u001B[0m\u001B[0;34m\u001B[0m\u001B[0;34m\u001B[0m\u001B[0m\n\u001B[0;32m---> 84\u001B[0;31m         \u001B[0;32mreturn\u001B[0m \u001B[0mself\u001B[0m\u001B[0;34m.\u001B[0m\u001B[0m_build\u001B[0m\u001B[0;34m(\u001B[0m\u001B[0mhp\u001B[0m\u001B[0;34m,\u001B[0m \u001B[0;34m*\u001B[0m\u001B[0margs\u001B[0m\u001B[0;34m,\u001B[0m \u001B[0;34m**\u001B[0m\u001B[0mkwargs\u001B[0m\u001B[0;34m)\u001B[0m\u001B[0;34m\u001B[0m\u001B[0;34m\u001B[0m\u001B[0m\n\u001B[0m\u001B[1;32m     85\u001B[0m \u001B[0;34m\u001B[0m\u001B[0m\n\u001B[1;32m     86\u001B[0m \u001B[0;34m\u001B[0m\u001B[0m\n",
      "\u001B[0;32m~/.local/lib/python3.6/site-packages/keras_tuner/engine/hypermodel.py\u001B[0m in \u001B[0;36mbuild\u001B[0;34m(self, hp)\u001B[0m\n\u001B[1;32m    133\u001B[0m \u001B[0;34m\u001B[0m\u001B[0m\n\u001B[1;32m    134\u001B[0m                 \u001B[0;32mif\u001B[0m \u001B[0mi\u001B[0m \u001B[0;34m==\u001B[0m \u001B[0mself\u001B[0m\u001B[0;34m.\u001B[0m\u001B[0m_max_fail_streak\u001B[0m\u001B[0;34m:\u001B[0m\u001B[0;34m\u001B[0m\u001B[0;34m\u001B[0m\u001B[0m\n\u001B[0;32m--> 135\u001B[0;31m                     \u001B[0;32mraise\u001B[0m \u001B[0mRuntimeError\u001B[0m\u001B[0;34m(\u001B[0m\u001B[0;34m\"Too many failed attempts to build model.\"\u001B[0m\u001B[0;34m)\u001B[0m\u001B[0;34m\u001B[0m\u001B[0;34m\u001B[0m\u001B[0m\n\u001B[0m\u001B[1;32m    136\u001B[0m                 \u001B[0;32mcontinue\u001B[0m\u001B[0;34m\u001B[0m\u001B[0;34m\u001B[0m\u001B[0m\n\u001B[1;32m    137\u001B[0m \u001B[0;34m\u001B[0m\u001B[0m\n",
      "\u001B[0;31mRuntimeError\u001B[0m: Too many failed attempts to build model."
     ]
    }
   ],
   "source": [
    "tuner = RandomSearch(\n",
    "        build_model,\n",
    "        objective = \"val_acc\",\n",
    "        max_trials = 10,\n",
    "        executions_per_trial = 2,\n",
    "        directory = log_dir\n",
    "        )\n",
    "\n",
    "tuner.search(x = train_X_scaled,\n",
    "             y = train_Y_onehot_encoded,\n",
    "             epochs = 10,\n",
    "             batch_size = 25,\n",
    "             validation_data = (test_X_scaled, test_Y_onehot_encoded))\n",
    "\n",
    ";"
   ]
  },
  {
   "cell_type": "code",
   "execution_count": 16,
   "metadata": {},
   "outputs": [
    {
     "name": "stdout",
     "output_type": "stream",
     "text": [
      "The best hyperparemeters found are : \n"
     ]
    },
    {
     "ename": "NameError",
     "evalue": "name 'tuner' is not defined",
     "output_type": "error",
     "traceback": [
      "\u001B[0;31m---------------------------------------------------------------------------\u001B[0m",
      "\u001B[0;31mNameError\u001B[0m                                 Traceback (most recent call last)",
      "\u001B[0;32m<ipython-input-16-c3d77065a69a>\u001B[0m in \u001B[0;36m<module>\u001B[0;34m\u001B[0m\n\u001B[1;32m      1\u001B[0m \u001B[0mprint\u001B[0m\u001B[0;34m(\u001B[0m\u001B[0;34m\"The best hyperparemeters found are : \"\u001B[0m\u001B[0;34m)\u001B[0m\u001B[0;34m\u001B[0m\u001B[0;34m\u001B[0m\u001B[0m\n\u001B[0;32m----> 2\u001B[0;31m \u001B[0mprint\u001B[0m\u001B[0;34m(\u001B[0m\u001B[0mtuner\u001B[0m\u001B[0;34m.\u001B[0m\u001B[0mget_best_hyperparameters\u001B[0m\u001B[0;34m(\u001B[0m\u001B[0;34m)\u001B[0m\u001B[0;34m[\u001B[0m\u001B[0;36m0\u001B[0m\u001B[0;34m]\u001B[0m\u001B[0;34m.\u001B[0m\u001B[0mvalues\u001B[0m\u001B[0;34m)\u001B[0m\u001B[0;34m\u001B[0m\u001B[0;34m\u001B[0m\u001B[0m\n\u001B[0m\u001B[1;32m      3\u001B[0m \u001B[0mprint\u001B[0m\u001B[0;34m(\u001B[0m\u001B[0;34m\"The summary for the best model : \"\u001B[0m\u001B[0;34m)\u001B[0m\u001B[0;34m\u001B[0m\u001B[0;34m\u001B[0m\u001B[0m\n\u001B[1;32m      4\u001B[0m \u001B[0mprint\u001B[0m\u001B[0;34m(\u001B[0m\u001B[0mtuner\u001B[0m\u001B[0;34m.\u001B[0m\u001B[0mget_best_models\u001B[0m\u001B[0;34m(\u001B[0m\u001B[0;34m)\u001B[0m\u001B[0;34m[\u001B[0m\u001B[0;36m0\u001B[0m\u001B[0;34m]\u001B[0m\u001B[0;34m.\u001B[0m\u001B[0msummary\u001B[0m\u001B[0;34m(\u001B[0m\u001B[0;34m)\u001B[0m\u001B[0;34m)\u001B[0m\u001B[0;34m\u001B[0m\u001B[0;34m\u001B[0m\u001B[0m\n",
      "\u001B[0;31mNameError\u001B[0m: name 'tuner' is not defined"
     ]
    }
   ],
   "source": [
    "print(\"The best hyperparemeters found are : \")\n",
    "print(tuner.get_best_hyperparameters()[0].values)\n",
    "print(\"The summary for the best model : \")\n",
    "print(tuner.get_best_models()[0].summary())"
   ]
  },
  {
   "cell_type": "markdown",
   "metadata": {},
   "source": [
    "## Choosing final model"
   ]
  },
  {
   "cell_type": "code",
   "execution_count": 17,
   "metadata": {},
   "outputs": [
    {
     "ename": "NameError",
     "evalue": "name 'tuner' is not defined",
     "output_type": "error",
     "traceback": [
      "\u001B[0;31m---------------------------------------------------------------------------\u001B[0m",
      "\u001B[0;31mNameError\u001B[0m                                 Traceback (most recent call last)",
      "\u001B[0;32m<ipython-input-17-056eb6b1d39b>\u001B[0m in \u001B[0;36m<module>\u001B[0;34m\u001B[0m\n\u001B[0;32m----> 1\u001B[0;31m \u001B[0mfinal_model\u001B[0m \u001B[0;34m=\u001B[0m \u001B[0mtuner\u001B[0m\u001B[0;34m.\u001B[0m\u001B[0mget_best_models\u001B[0m\u001B[0;34m(\u001B[0m\u001B[0;34m)\u001B[0m\u001B[0;34m[\u001B[0m\u001B[0;36m0\u001B[0m\u001B[0;34m]\u001B[0m\u001B[0;34m\u001B[0m\u001B[0;34m\u001B[0m\u001B[0m\n\u001B[0m\u001B[1;32m      2\u001B[0m \u001B[0;34m\u001B[0m\u001B[0m\n\u001B[1;32m      3\u001B[0m \u001B[0;31m#Fit\u001B[0m\u001B[0;34m\u001B[0m\u001B[0;34m\u001B[0m\u001B[0;34m\u001B[0m\u001B[0m\n\u001B[1;32m      4\u001B[0m final_model.fit(train_X_scaled, train_Y_onehot_encoded,\n\u001B[1;32m      5\u001B[0m           \u001B[0mbatch_size\u001B[0m\u001B[0;34m=\u001B[0m\u001B[0;36m20\u001B[0m\u001B[0;34m,\u001B[0m\u001B[0;34m\u001B[0m\u001B[0;34m\u001B[0m\u001B[0m\n",
      "\u001B[0;31mNameError\u001B[0m: name 'tuner' is not defined"
     ]
    }
   ],
   "source": [
    "final_model = tuner.get_best_models()[0]\n",
    "    \n",
    "#Fit\n",
    "final_model.fit(train_X_scaled, train_Y_onehot_encoded,\n",
    "          batch_size=20,\n",
    "          epochs=100,\n",
    "          validation_data=(test_X_scaled, test_Y_onehot_encoded))\n",
    "\n",
    "# Evaluate the model on the test data using `evaluate`\n",
    "print('\\n# Evaluate on test data')\n",
    "results_ = final_model.evaluate(test_X_scaled, test_Y_onehot_encoded, batch_size=128)\n",
    "print('test loss, test acc:', results_)\n",
    "\n",
    "# Generate predictions (probabilities -- the output of the last layer)\n",
    "# on new data using `predict`\n",
    "print('\\n# Generate predictions for 3 samples')\n",
    "predictions = final_model.predict(test_X_scaled[:3])\n",
    "print('predictions shape:', predictions.shape)\n",
    "\n",
    ";"
   ]
  },
  {
   "cell_type": "markdown",
   "metadata": {},
   "source": [
    "# Function to optimize"
   ]
  },
  {
   "cell_type": "raw",
   "metadata": {},
   "source": [
    "# Expected gain when you bet on a result\n",
    "# E(G) = probability x (odd - 1) - (1 - probability) x 1\n",
    "# E(G) = probability x odd - 1"
   ]
  },
  {
   "cell_type": "code",
   "execution_count": 18,
   "metadata": {},
   "outputs": [
    {
     "data": {
      "image/png": "[encoded data removed]",
      "text/plain": [
       "<Figure size 432x288 with 2 Axes>"
      ]
     },
     "metadata": {
      "needs_background": "light"
     },
     "output_type": "display_data"
    }
   ],
   "source": [
    "from numpy import arange\n",
    "from pylab import meshgrid,cm,imshow,contour,clabel,colorbar,axis,title,show\n",
    "\n",
    "# the function that I'm going to plot\n",
    "def z_func(x,y):\n",
    "    return (x*y - 1)\n",
    " \n",
    "prob = arange(0.0,1.0,0.01)\n",
    "odd = arange(1.0,5.0,0.05)\n",
    "X,Y = meshgrid(prob, odd) # grid of point\n",
    "Z = z_func(X, Y) # evaluation of the function on the grid\n",
    "\n",
    "im = imshow(Z,origin = 'lower') # drawing the function\n",
    "\n",
    "# adding the Contour lines with labels\n",
    "cset = contour(Z,[0.0, 0.5],linewidths=1,cmap=cm.Set2)\n",
    "clabel(cset,inline=True,fmt='%1.1f',fontsize=10)\n",
    "\n",
    "colorbar(im) # adding the colobar on the right\n",
    "\n",
    "show()"
   ]
  },
  {
   "cell_type": "markdown",
   "metadata": {},
   "source": [
    "# Performance analysis"
   ]
  },
  {
   "cell_type": "markdown",
   "metadata": {},
   "source": [
    "## Calculations of expected gain for each result"
   ]
  },
  {
   "cell_type": "code",
   "execution_count": 19,
   "metadata": {},
   "outputs": [
    {
     "ename": "KeyError",
     "evalue": "'Random Forest'",
     "output_type": "error",
     "traceback": [
      "\u001B[0;31m---------------------------------------------------------------------------\u001B[0m",
      "\u001B[0;31mKeyError\u001B[0m                                  Traceback (most recent call last)",
      "\u001B[0;32m<ipython-input-19-51e6600759e3>\u001B[0m in \u001B[0;36m<module>\u001B[0;34m\u001B[0m\n\u001B[1;32m      1\u001B[0m \u001B[0mperformance_df\u001B[0m \u001B[0;34m=\u001B[0m \u001B[0mtest_df\u001B[0m\u001B[0;34m[\u001B[0m\u001B[0;34m[\u001B[0m\u001B[0;34m'FTR'\u001B[0m\u001B[0;34m,\u001B[0m\u001B[0;34m'IWA'\u001B[0m\u001B[0;34m,\u001B[0m\u001B[0;34m'IWD'\u001B[0m\u001B[0;34m,\u001B[0m\u001B[0;34m'IWH'\u001B[0m\u001B[0;34m]\u001B[0m\u001B[0;34m]\u001B[0m\u001B[0;34m\u001B[0m\u001B[0;34m\u001B[0m\u001B[0m\n\u001B[0;32m----> 2\u001B[0;31m \u001B[0mperformance_df\u001B[0m\u001B[0;34m[\u001B[0m\u001B[0;34m'P(A)'\u001B[0m\u001B[0;34m]\u001B[0m\u001B[0;34m=\u001B[0m \u001B[0mpd\u001B[0m\u001B[0;34m.\u001B[0m\u001B[0mDataFrame\u001B[0m\u001B[0;34m(\u001B[0m\u001B[0mdata\u001B[0m \u001B[0;34m=\u001B[0m \u001B[0mresults\u001B[0m\u001B[0;34m[\u001B[0m\u001B[0;34m'Random Forest'\u001B[0m\u001B[0;34m]\u001B[0m\u001B[0;34m[\u001B[0m\u001B[0;34m:\u001B[0m\u001B[0;34m,\u001B[0m\u001B[0;36m0\u001B[0m\u001B[0;34m]\u001B[0m\u001B[0;34m,\u001B[0m \u001B[0mcolumns\u001B[0m \u001B[0;34m=\u001B[0m \u001B[0;34m[\u001B[0m\u001B[0;34m'P(A)'\u001B[0m\u001B[0;34m]\u001B[0m\u001B[0;34m)\u001B[0m\u001B[0;34m\u001B[0m\u001B[0;34m\u001B[0m\u001B[0m\n\u001B[0m\u001B[1;32m      3\u001B[0m \u001B[0mperformance_df\u001B[0m\u001B[0;34m[\u001B[0m\u001B[0;34m'E(A)'\u001B[0m\u001B[0;34m]\u001B[0m\u001B[0;34m=\u001B[0m \u001B[0mperformance_df\u001B[0m\u001B[0;34m[\u001B[0m\u001B[0;34m'P(A)'\u001B[0m\u001B[0;34m]\u001B[0m \u001B[0;34m*\u001B[0m \u001B[0mperformance_df\u001B[0m\u001B[0;34m[\u001B[0m\u001B[0;34m'IWA'\u001B[0m\u001B[0;34m]\u001B[0m \u001B[0;34m-\u001B[0m \u001B[0;36m1.0\u001B[0m\u001B[0;34m\u001B[0m\u001B[0;34m\u001B[0m\u001B[0m\n\u001B[1;32m      4\u001B[0m \u001B[0mperformance_df\u001B[0m\u001B[0;34m[\u001B[0m\u001B[0;34m'P(D)'\u001B[0m\u001B[0;34m]\u001B[0m\u001B[0;34m=\u001B[0m \u001B[0mpd\u001B[0m\u001B[0;34m.\u001B[0m\u001B[0mDataFrame\u001B[0m\u001B[0;34m(\u001B[0m\u001B[0mdata\u001B[0m \u001B[0;34m=\u001B[0m \u001B[0mresults\u001B[0m\u001B[0;34m[\u001B[0m\u001B[0;34m'Random Forest'\u001B[0m\u001B[0;34m]\u001B[0m\u001B[0;34m[\u001B[0m\u001B[0;34m:\u001B[0m\u001B[0;34m,\u001B[0m\u001B[0;36m1\u001B[0m\u001B[0;34m]\u001B[0m\u001B[0;34m,\u001B[0m \u001B[0mcolumns\u001B[0m \u001B[0;34m=\u001B[0m \u001B[0;34m[\u001B[0m\u001B[0;34m'P(D)'\u001B[0m\u001B[0;34m]\u001B[0m\u001B[0;34m)\u001B[0m\u001B[0;34m\u001B[0m\u001B[0;34m\u001B[0m\u001B[0m\n\u001B[1;32m      5\u001B[0m \u001B[0mperformance_df\u001B[0m\u001B[0;34m[\u001B[0m\u001B[0;34m'E(D)'\u001B[0m\u001B[0;34m]\u001B[0m\u001B[0;34m=\u001B[0m \u001B[0mperformance_df\u001B[0m\u001B[0;34m[\u001B[0m\u001B[0;34m'P(D)'\u001B[0m\u001B[0;34m]\u001B[0m \u001B[0;34m*\u001B[0m \u001B[0mperformance_df\u001B[0m\u001B[0;34m[\u001B[0m\u001B[0;34m'IWD'\u001B[0m\u001B[0;34m]\u001B[0m \u001B[0;34m-\u001B[0m \u001B[0;36m1.0\u001B[0m\u001B[0;34m\u001B[0m\u001B[0;34m\u001B[0m\u001B[0m\n",
      "\u001B[0;31mKeyError\u001B[0m: 'Random Forest'"
     ]
    }
   ],
   "source": [
    "performance_df = test_df[['FTR','IWA','IWD','IWH']]\n",
    "performance_df['P(A)']= pd.DataFrame(data = results['Random Forest'][:,0], columns = ['P(A)'])\n",
    "performance_df['E(A)']= performance_df['P(A)'] * performance_df['IWA'] - 1.0\n",
    "performance_df['P(D)']= pd.DataFrame(data = results['Random Forest'][:,1], columns = ['P(D)'])\n",
    "performance_df['E(D)']= performance_df['P(D)'] * performance_df['IWD'] - 1.0\n",
    "performance_df['P(H)']= pd.DataFrame(data = results['Random Forest'][:,2], columns = ['P(H)'])\n",
    "performance_df['E(H)']= performance_df['P(H)'] * performance_df['IWH'] - 1.0\n",
    "performance_df"
   ]
  },
  {
   "cell_type": "markdown",
   "metadata": {},
   "source": [
    "## Selection of results to bet on and their actual performances"
   ]
  },
  {
   "cell_type": "code",
   "execution_count": 45,
   "metadata": {},
   "outputs": [],
   "source": [
    "#Floor and cap on expected gain to consider\n",
    "floor = 1.0\n",
    "cap = 15.0"
   ]
  },
  {
   "cell_type": "markdown",
   "metadata": {},
   "source": [
    "### Draws performance"
   ]
  },
  {
   "cell_type": "code",
   "execution_count": 46,
   "metadata": {},
   "outputs": [
    {
     "data": {
      "text/plain": [
       "5.5"
      ]
     },
     "execution_count": 46,
     "metadata": {},
     "output_type": "execute_result"
    }
   ],
   "source": [
    "#Selection of the draws\n",
    "draw_floor = performance_df['E(D)'] > floor\n",
    "draw_cap = performance_df['E(D)'] < cap\n",
    "selected_draw = performance_df[draw_floor & draw_cap]\n",
    "\n",
    "#Computation of actual gains on draws\n",
    "selected_draw['Gain'] = 0.0\n",
    "is_Draw = selected_draw['FTR'] == 'D'\n",
    "not_Draw = selected_draw['FTR'] != 'D'\n",
    "selected_draw.loc[not_Draw, 'Gain'] = -1.0\n",
    "selected_draw.loc[is_Draw, 'Gain'] = selected_draw.loc[is_Draw,'IWD'] - 1.0\n",
    "selected_draw['Gain'].sum()"
   ]
  },
  {
   "cell_type": "markdown",
   "metadata": {},
   "source": [
    "### Aways performance"
   ]
  },
  {
   "cell_type": "code",
   "execution_count": 47,
   "metadata": {},
   "outputs": [
    {
     "data": {
      "text/plain": [
       "-43.050000000000004"
      ]
     },
     "execution_count": 47,
     "metadata": {},
     "output_type": "execute_result"
    }
   ],
   "source": [
    "#Selection of the aways\n",
    "away_floor = performance_df['E(A)'] > floor\n",
    "away_cap = performance_df['E(A)'] < cap\n",
    "selected_away = performance_df[away_floor & away_cap]\n",
    "\n",
    "#Computation of actual gains on aways\n",
    "selected_away['Gain'] = 0.0\n",
    "is_Away = selected_away['FTR'] == 'A'\n",
    "not_Away = selected_away['FTR'] != 'A'\n",
    "selected_away.loc[not_Away, 'Gain'] = -1.0\n",
    "selected_away.loc[is_Away, 'Gain'] = selected_away.loc[is_Away,'IWA'] - 1.0\n",
    "selected_away['Gain'].sum()"
   ]
  },
  {
   "cell_type": "markdown",
   "metadata": {},
   "source": [
    "### Homes performance"
   ]
  },
  {
   "cell_type": "code",
   "execution_count": 48,
   "metadata": {},
   "outputs": [
    {
     "data": {
      "text/plain": [
       "9.6"
      ]
     },
     "execution_count": 48,
     "metadata": {},
     "output_type": "execute_result"
    }
   ],
   "source": [
    "#Selection of the homes\n",
    "home_floor = performance_df['E(H)'] > floor\n",
    "home_cap = performance_df['E(H)'] < cap\n",
    "selected_home = performance_df[home_floor & home_cap]\n",
    "\n",
    "#Computation of actual gains on aways\n",
    "selected_home['Gain'] = 0.0\n",
    "is_Home = selected_home['FTR'] == 'H'\n",
    "not_Home = selected_home['FTR'] != 'H'\n",
    "selected_home.loc[not_Home, 'Gain'] = -1.0\n",
    "selected_home.loc[is_Home, 'Gain'] = selected_home.loc[is_Home,'IWH'] - 1.0\n",
    "selected_home['Gain'].sum()"
   ]
  },
  {
   "cell_type": "code",
   "execution_count": 49,
   "metadata": {},
   "outputs": [
    {
     "data": {
      "text/plain": [
       "<matplotlib.axes._subplots.AxesSubplot at 0x7fe143c1c280>"
      ]
     },
     "execution_count": 49,
     "metadata": {},
     "output_type": "execute_result"
    },
    {
     "data": {
      "image/png": "[encoded data removed]",
      "text/plain": [
       "<Figure size 1440x864 with 2 Axes>"
      ]
     },
     "metadata": {
      "needs_background": "light"
     },
     "output_type": "display_data"
    }
   ],
   "source": [
    "import matplotlib.pyplot as plt\n",
    "corr_mat = train_df.corr()\n",
    "fig, ax = plt.subplots(figsize=(20, 12)) \n",
    "sns.heatmap(corr_mat, vmax=1.0, square=True, ax=ax)"
   ]
  },
  {
   "cell_type": "code",
   "execution_count": null,
   "metadata": {},
   "outputs": [],
   "source": []
  }
 ],
 "metadata": {
  "kernelspec": {
   "display_name": "Python 3",
   "language": "python",
   "name": "python3"
  },
  "language_info": {
   "codemirror_mode": {
    "name": "ipython",
    "version": 3
   },
   "file_extension": ".py",
   "mimetype": "text/x-python",
   "name": "python",
   "nbconvert_exporter": "python",
   "pygments_lexer": "ipython3",
   "version": "3.6.9"
  }
 },
 "nbformat": 4,
 "nbformat_minor": 2
}